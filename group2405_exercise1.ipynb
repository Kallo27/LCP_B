{
 "cells": [
  {
   "cell_type": "markdown",
   "metadata": {},
   "source": [
    "## EXERCISE 1"
   ]
  },
  {
   "cell_type": "markdown",
   "metadata": {},
   "source": [
    "| Name | Surname | ID Number |\n",
    "|------|---------|---------------------|\n",
    "| Lucrezia | Rossi | 2122164 |\n",
    "| Lorenzo | Calandra Buonaura | 2107761 |\n",
    "| Andrea | Turci | 2106724 |"
   ]
  },
  {
   "cell_type": "code",
   "execution_count": 1,
   "metadata": {},
   "outputs": [
    {
     "name": "stderr",
     "output_type": "stream",
     "text": [
      "2024-03-06 18:52:58.249486: I external/local_tsl/tsl/cuda/cudart_stub.cc:31] Could not find cuda drivers on your machine, GPU will not be used.\n",
      "2024-03-06 18:52:58.658041: E external/local_xla/xla/stream_executor/cuda/cuda_dnn.cc:9261] Unable to register cuDNN factory: Attempting to register factory for plugin cuDNN when one has already been registered\n",
      "2024-03-06 18:52:58.658201: E external/local_xla/xla/stream_executor/cuda/cuda_fft.cc:607] Unable to register cuFFT factory: Attempting to register factory for plugin cuFFT when one has already been registered\n",
      "2024-03-06 18:52:58.700041: E external/local_xla/xla/stream_executor/cuda/cuda_blas.cc:1515] Unable to register cuBLAS factory: Attempting to register factory for plugin cuBLAS when one has already been registered\n",
      "2024-03-06 18:52:58.855394: I external/local_tsl/tsl/cuda/cudart_stub.cc:31] Could not find cuda drivers on your machine, GPU will not be used.\n",
      "2024-03-06 18:52:58.857655: I tensorflow/core/platform/cpu_feature_guard.cc:182] This TensorFlow binary is optimized to use available CPU instructions in performance-critical operations.\n",
      "To enable the following instructions: AVX2 FMA, in other operations, rebuild TensorFlow with the appropriate compiler flags.\n",
      "2024-03-06 18:53:01.748258: W tensorflow/compiler/tf2tensorrt/utils/py_utils.cc:38] TF-TRT Warning: Could not find TensorRT\n"
     ]
    }
   ],
   "source": [
    "import numpy as np\n",
    "import matplotlib.pyplot as plt\n",
    "plt.rcParams['font.size'] = 13\n",
    "\n",
    "import keras\n",
    "import tensorflow as tf\n",
    "import tensorflow.random as tf_r\n",
    "\n",
    "from keras.models import Sequential\n",
    "from keras.layers import Dense, Dropout, Flatten #, Reshape\n",
    "from keras.layers import Conv1D, MaxPooling1D, GlobalMaxPooling1D, AveragePooling1D"
   ]
  },
  {
   "cell_type": "markdown",
   "metadata": {},
   "source": [
    "1. The lesson discussed two CNN versions: one ending with a global max pooling layer (G), and one\n",
    "ending with a dense layer (D).\n",
    "Choose one of the two G and D versions for the remaining exercise, motivating your choice."
   ]
  },
  {
   "cell_type": "code",
   "execution_count": 2,
   "metadata": {},
   "outputs": [
    {
     "name": "stdout",
     "output_type": "stream",
     "text": [
      "N_train= 3200   N_val= 800   L= 80   n_class= 3\n",
      "----- Model 2 -----\n",
      "Model: \"sequential\"\n",
      "_________________________________________________________________\n",
      " Layer (type)                Output Shape              Param #   \n",
      "=================================================================\n",
      " conv1d (Conv1D)             (None, 70, 5)             60        \n",
      "                                                                 \n",
      " conv1d_1 (Conv1D)           (None, 67, 5)             105       \n",
      "                                                                 \n",
      " conv1d_2 (Conv1D)           (None, 64, 5)             105       \n",
      "                                                                 \n",
      " global_max_pooling1d (Glob  (None, 5)                 0         \n",
      " alMaxPooling1D)                                                 \n",
      "                                                                 \n",
      " flatten (Flatten)           (None, 5)                 0         \n",
      "                                                                 \n",
      " dense (Dense)               (None, 3)                 18        \n",
      "                                                                 \n",
      "=================================================================\n",
      "Total params: 288 (1.12 KB)\n",
      "Trainable params: 288 (1.12 KB)\n",
      "Non-trainable params: 0 (0.00 Byte)\n",
      "_________________________________________________________________\n",
      "None\n",
      "[<keras.src.layers.convolutional.conv1d.Conv1D object at 0x7fcef93c9ed0>, <keras.src.layers.convolutional.conv1d.Conv1D object at 0x7fcef8238dd0>, <keras.src.layers.convolutional.conv1d.Conv1D object at 0x7fcefa26f290>, <keras.src.layers.pooling.global_max_pooling1d.GlobalMaxPooling1D object at 0x7fcef938b7d0>, <keras.src.layers.reshaping.flatten.Flatten object at 0x7fcf0e663590>, <keras.src.layers.core.dense.Dense object at 0x7fcef93b6f50>]\n"
     ]
    }
   ],
   "source": [
    "str0=\"ts_L80_N4000.dat\"\n",
    "fnamex='x_'+str0\n",
    "fnamey='y_'+str0\n",
    "\n",
    "x = np.loadtxt(fnamex, delimiter=\" \", dtype=float)\n",
    "N, L = len(x), len(x[0])\n",
    "\n",
    "categ = np.loadtxt(fnamey, dtype=int)\n",
    "n_class = 3    # y.argmax() - y.argmin() +1\n",
    "#print('data: ',N)\n",
    "\n",
    "y = np.zeros((N,n_class))\n",
    "for i in range(N):\n",
    "    y[i][categ[i]] = 1.\n",
    "# bring each sample to zero average\n",
    "xm = x.mean(axis=1)\n",
    "for i in range(N):\n",
    "    x[i] = x[i]-xm[i]\n",
    "\n",
    "#rescale (crude version, variance should be used)\n",
    "x = x / x.std()\n",
    "\n",
    "perc_train=0.8\n",
    "N_train = int(perc_train*N)\n",
    "x_train = x[:N_train]\n",
    "y_train = y[:N_train]\n",
    "x_val = x[N_train:]\n",
    "y_val = y[N_train:]\n",
    "N_val = len(x_val)\n",
    "print('N_train=',N_train,'  N_val=',N_val,'  L=',L,'  n_class=',n_class)\n",
    "\n",
    "# Keras wants an additional dimension with a 1 at the end\n",
    "x_train = x_train.reshape(x_train.shape[0], L, 1)\n",
    "x_val =  x_val.reshape(x_val.shape[0], L, 1)\n",
    "input_shape = (L, 1)\n",
    "\n",
    "# reproducibility\n",
    "np.random.seed(12345)\n",
    "tf_r.set_seed(12345)\n",
    "NCONV=2 #change this for see the result of the different model\n",
    "\n",
    "def build_model(NCONV=1, NF=5,KS=6, NF2=5,KS2=4, lamb=0):\n",
    "    \"\"\"\n",
    "    filter = kernel\n",
    "    NCONV=index of the CNN architecture\n",
    "    NF=nr of filters in the 1st layer\n",
    "    KS=kernel size in the 1st layer\n",
    "    NF2=nr of filters in the 2nd layer\n",
    "    KS2=kernel size in the 2nd layer\n",
    "    lamb=not the animal, but lambda, the regularization parameter\n",
    "    \"\"\"\n",
    "    # regularizers, l2=Ridge, l1=LASSO\n",
    "    reg = keras.regularizers.l2(lamb)\n",
    "    model = Sequential()\n",
    "\n",
    "    # Version with last layer Dense\n",
    "    if NCONV==1:\n",
    "        model.add(Conv1D(filters=5, \n",
    "                         kernel_size=KS,\n",
    "                         kernel_regularizer=reg,\n",
    "                         activation='relu', \n",
    "                         input_shape=input_shape))\n",
    "        model.add(MaxPooling1D(3))\n",
    "        #model.add(AveragePooling1D(3))\n",
    "        model.add(Conv1D(filters=NF2, kernel_size=KS2,activation='relu'))\n",
    "        model.add(Flatten())\n",
    "        model.add(Dense(12, activation='relu'))\n",
    "        model.add(Dropout(0.2))\n",
    "\n",
    "    # Version with last layer GlobalMaxPooling, one more intermediate conv1D, and no intermediate pooling\n",
    "    if NCONV==2:\n",
    "        model.add(Conv1D(filters=NF, \n",
    "                         kernel_size=KS,\n",
    "                         kernel_regularizer=reg,\n",
    "                         activation='relu', \n",
    "                         input_shape=input_shape))\n",
    "        model.add(Conv1D(filters=NF2, kernel_size=KS2,activation='relu'))\n",
    "        model.add(Conv1D(filters=NF2, kernel_size=KS2,activation='relu'))\n",
    "        model.add(tf.keras.layers.GlobalMaxPooling1D())\n",
    "        model.add(Flatten())\n",
    "        \n",
    "    # Last layer, with n_class units  \n",
    "    model.add(Dense(n_class, activation='softmax')) # softmax !\n",
    "    \n",
    "    # optimizers\n",
    "    # .SGD(lr=0.01, momentum=0.9, nesterov=True) # decay=1e-6,\n",
    "    # .RMSprop()\n",
    "    # .Nadam()\n",
    "    # Define the optimizer learning rate as a hyperparameter.\n",
    "    opt = keras.optimizers.Adam()\n",
    "    \n",
    "    # compile the model\n",
    "    # categorical_crossentropy, 3 output nodes\n",
    "    model.compile(loss=keras.losses.categorical_crossentropy,optimizer=opt,metrics=['accuracy'])\n",
    "    return model\n",
    "\n",
    "model=build_model(NCONV=NCONV,KS=11)\n",
    "\n",
    "print('----- Model',NCONV,'-----')\n",
    "print(model.summary())\n",
    "\n",
    "opt = tf.keras.optimizers.Adam()\n",
    "\n",
    "# compile the model\n",
    "# categorical_crossentropy, 3 output nodes\n",
    "model.compile(loss=keras.losses.categorical_crossentropy,\n",
    "              optimizer=opt,metrics=['accuracy'])\n",
    "\n",
    "print(model.layers)"
   ]
  },
  {
   "cell_type": "markdown",
   "metadata": {},
   "source": [
    "#### Answer:\n",
    "La risposta è G perchè ci sono meno parametri e quindi diminuiscono i costi computazionali (da scrivere meglio)"
   ]
  },
  {
   "cell_type": "markdown",
   "metadata": {},
   "source": [
    "2. Try different optimizers, including at least Adam, RMSprop, and Nesterov. Each one should be\n",
    "tested for at least five values of the learning rate η (for example, including 10 $^{-5}$, 10 $^{-4}$, 10 $^{-3}$). The\n",
    "range could be different for different algorithms. Moreover, at least five fits per model should be collected to obtain statistics with an average and standard deviation of the model’s validation accuracy. Plot all results in a single panel of a figure as a function of η."
   ]
  },
  {
   "cell_type": "code",
   "execution_count": 3,
   "metadata": {},
   "outputs": [],
   "source": [
    "def build_model(NF=5,KS=6, NF2=5,KS2=4, lamb=0):\n",
    "    \"\"\"\n",
    "    filter = kernel\n",
    "    NCONV=index of the CNN architecture\n",
    "    NF=nr of filters in the 1st layer\n",
    "    KS=kernel size in the 1st layer\n",
    "    NF2=nr of filters in the 2nd layer\n",
    "    KS2=kernel size in the 2nd layer\n",
    "    lamb=not the animal, but lambda, the regularization parameter\n",
    "    \"\"\"\n",
    "    # regularizers, l2=Ridge, l1=LASSO\n",
    "    reg = keras.regularizers.l2(lamb)\n",
    "    model = Sequential()\n",
    "\n",
    "    # Chosen CNN\n",
    "    model.add(Conv1D(filters=NF, \n",
    "                    kernel_size=KS,\n",
    "                    kernel_regularizer=reg,\n",
    "                    activation='relu', \n",
    "                    input_shape=input_shape))\n",
    "    model.add(Conv1D(filters=NF2, kernel_size=KS2,activation='relu'))\n",
    "    model.add(Conv1D(filters=NF2, kernel_size=KS2,activation='relu'))\n",
    "    model.add(tf.keras.layers.GlobalMaxPooling1D())\n",
    "    model.add(Flatten())\n",
    "        \n",
    "    # Last layer, with n_class units  \n",
    "    model.add(Dense(n_class, activation='softmax')) # softmax !\n",
    "    return model\n",
    "\n",
    "model =  build_model(KS=11)"
   ]
  },
  {
   "cell_type": "code",
   "execution_count": 4,
   "metadata": {},
   "outputs": [
    {
     "name": "stdout",
     "output_type": "stream",
     "text": [
      "[{'optimizer': 'Adam', 'learning_rates': [0.01, 0.005, 0.001, 0.0005, 0.0001], 'mean_val_accuracy': [0.76287083029747, 0.7736791612704595, 0.7708874960740407, 0.7677999973297119, 0.7657375011841456], 'std_val_accuracy': [0.03768610563709704, 0.006637185993905076, 0.005687962084700847, 0.003869429058333867, 0.001741900582520937]}, {'optimizer': 'RMSprop', 'learning_rates': [0.01, 0.005, 0.001, 0.0005, 0.0001], 'mean_val_accuracy': [0.755666667620341, 0.7558166722456614, 0.749574998219808, 0.7455833222468694, 0.7455208194255829], 'std_val_accuracy': [0.013559794840804712, 0.005320923793666665, 0.003212388811091877, 0.0020522672745605488, 0.0008627529322202948]}, {'optimizer': 'SGD', 'learning_rates': [0.01, 0.005, 0.001, 0.0005, 0.0001], 'mean_val_accuracy': [0.7452749907970428, 0.7437916578849156, 0.7420749976237615, 0.7424708398183187, 0.7425000071525574], 'std_val_accuracy': [0.0026687639498592375, 0.0023359347208881404, 0.0006820720983617743, 0.00018870418356754863, 0.0]}]\n"
     ]
    }
   ],
   "source": [
    "optimizers = [keras.optimizers.Adam, keras.optimizers.RMSprop, keras.optimizers.SGD]\n",
    "learning_rates = [0.01, 0.005, 0.001, 0.0005, 0.0001]\n",
    "BATCH_SIZE = 200\n",
    "EPOCHS = 300\n",
    "results = []\n",
    "\n",
    "for optimizer in optimizers:\n",
    "    optimizer_instance = optimizer()\n",
    "\n",
    "    if hasattr(optimizer_instance, 'get_config'):\n",
    "        optimizer_name = optimizer_instance.get_config()['name']\n",
    "    else:\n",
    "        optimizer_name = str(optimizer_instance)\n",
    "    \n",
    "    mean_val_accuracies_optimizer = []\n",
    "    std_val_accuracies_optimizer = []\n",
    "\n",
    "    for learning_rate in learning_rates:\n",
    "        \n",
    "        # Construct and compile the model with the current learning rate\n",
    "        opt = optimizer(learning_rate=learning_rate)\n",
    "        model.compile(loss=keras.losses.categorical_crossentropy, optimizer=opt, metrics=['accuracy'])\n",
    "\n",
    "        # Fit the model and save the validation set accuracy\n",
    "        fit = model.fit(x_train, y_train, batch_size=BATCH_SIZE, epochs=EPOCHS, validation_data=(x_val, y_val), verbose=0, shuffle=True)\n",
    "        val_accuracies = fit.history['val_accuracy']\n",
    "\n",
    "        # Compute mean and std of the validation set accuracy (with the current learning rate)\n",
    "        mean_val_accuracy_lr = np.mean(val_accuracies)\n",
    "        std_val_accuracy_lr = np.std(val_accuracies)\n",
    "\n",
    "        mean_val_accuracies_optimizer.append(mean_val_accuracy_lr)\n",
    "        std_val_accuracies_optimizer.append(std_val_accuracy_lr)\n",
    "\n",
    "    # Create a dictionary of the results\n",
    "    results.append({\n",
    "        'optimizer': optimizer_name,\n",
    "        'learning_rates': learning_rates,\n",
    "        'mean_val_accuracy': mean_val_accuracies_optimizer,\n",
    "        'std_val_accuracy': std_val_accuracies_optimizer\n",
    "    })\n",
    "\n",
    "print(results)"
   ]
  },
  {
   "cell_type": "code",
   "execution_count": 5,
   "metadata": {},
   "outputs": [
    {
     "data": {
      "image/png": "[encoded data removed]",
      "text/plain": [
       "<Figure size 1000x600 with 1 Axes>"
      ]
     },
     "metadata": {},
     "output_type": "display_data"
    }
   ],
   "source": [
    "# Define the color for each optimizer\n",
    "colors = ['blue', 'green', 'red']\n",
    "\n",
    "# Create the plot\n",
    "plt.figure(figsize=(10, 6))\n",
    "\n",
    "for i, result in enumerate(results):\n",
    "    optimizer_name = result['optimizer']\n",
    "    learning_rates = result['learning_rates']\n",
    "    mean_val_accuracy = result['mean_val_accuracy']\n",
    "    std_val_accuracy = result['std_val_accuracy']\n",
    "    color = colors[i]\n",
    "    \n",
    "    # Plot of the mean with standard deviation\n",
    "    plt.errorbar(learning_rates, mean_val_accuracy, yerr=std_val_accuracy, fmt='o', capsize = 5,label=optimizer_name, color=color)\n",
    "\n",
    "# Plot esthetics\n",
    "plt.title('Media con Deviazione Standard della Validazione per ogni Ottimizzatore')\n",
    "plt.xlabel('Learning rate')\n",
    "plt.ylabel('Mean Validation Accurancy')\n",
    "plt.xscale('log')\n",
    "\n",
    "# Plot \n",
    "plt.legend()\n",
    "plt.grid(True)\n",
    "plt.show()"
   ]
  },
  {
   "cell_type": "markdown",
   "metadata": {},
   "source": [
    "3. Choose one among the best CNNs in step 2 (there could be equivalent ones within error bars).\n",
    "Using that CNN, try to understand the hidden patterns. Introduce regularization and study the\n",
    "kernels of the first layer, also by varying their length and their number (respectively, KS and NF in\n",
    "the notebook). Report your findings, including eventually improved validation accuracy, thanks to\n",
    "the regularization. However, note that this point’s scope differs from optimizing the validation\n",
    "accuracy: it focuses on interpreting the kernel shapes."
   ]
  },
  {
   "cell_type": "markdown",
   "metadata": {},
   "source": [
    "The best CNN is SGD with learning rate 0.0001?"
   ]
  },
  {
   "cell_type": "code",
   "execution_count": null,
   "metadata": {},
   "outputs": [],
   "source": []
  }
 ],
 "metadata": {
  "kernelspec": {
   "display_name": "base",
   "language": "python",
   "name": "python3"
  },
  "language_info": {
   "codemirror_mode": {
    "name": "ipython",
    "version": 3
   },
   "file_extension": ".py",
   "mimetype": "text/x-python",
   "name": "python",
   "nbconvert_exporter": "python",
   "pygments_lexer": "ipython3",
   "version": "3.11.5"
  }
 },
 "nbformat": 4,
 "nbformat_minor": 2
}
