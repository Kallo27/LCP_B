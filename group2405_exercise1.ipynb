{
 "cells": [
  {
   "cell_type": "markdown",
   "metadata": {},
   "source": [
    "## EXERCISE 1"
   ]
  },
  {
   "cell_type": "markdown",
   "metadata": {},
   "source": [
    "| Nome | Cognome | Numero di matricola |\n",
    "|------|---------|---------------------|\n",
    "| Lucrezia | Rossi | 2122164 |\n",
    "| Lorenzo | Calandra Buonaura | |\n",
    "| Andrea | Turci | |"
   ]
  },
  {
   "cell_type": "markdown",
   "metadata": {},
   "source": [
    "1. The lesson discussed two CNN versions: one ending with a global max pooling layer (G), and one\n",
    "ending with a dense layer (D).\n",
    "Choose one of the two G and D versions for the remaining exercise, motivating your choice."
   ]
  },
  {
   "cell_type": "code",
   "execution_count": null,
   "metadata": {
    "vscode": {
     "languageId": "plaintext"
    }
   },
   "outputs": [],
   "source": []
  },
  {
   "cell_type": "markdown",
   "metadata": {},
   "source": [
    "2. Try different optimizers, including at least Adam, RMSprop, and Nesterov. Each one should be\n",
    "tested for at least five values of the learning rate η (for example, including 10-5, 10-4, 10-3). The\n",
    "range could be different for different algorithms. Moreover, at least five fits per model should be\n",
    "collected to obtain statistics with an average and standard deviation of the model’s validation\n",
    "accuracy. Plot all results in a single panel of a figure as a function of η."
   ]
  },
  {
   "cell_type": "code",
   "execution_count": null,
   "metadata": {
    "vscode": {
     "languageId": "plaintext"
    }
   },
   "outputs": [],
   "source": []
  },
  {
   "cell_type": "markdown",
   "metadata": {},
   "source": [
    "3. Choose one among the best CNNs in step 2 (there could be equivalent ones within error bars).\n",
    "Using that CNN, try to understand the hidden patterns. Introduce regularization and study the\n",
    "kernels of the first layer, also by varying their length and their number (respectively, KS and NF in\n",
    "the notebook). Report your findings, including eventually improved validation accuracy, thanks to\n",
    "the regularization. However, note that this point’s scope differs from optimizing the validation\n",
    "accuracy: it focuses on interpreting the kernel shapes."
   ]
  },
  {
   "cell_type": "code",
   "execution_count": null,
   "metadata": {
    "vscode": {
     "languageId": "plaintext"
    }
   },
   "outputs": [],
   "source": []
  }
 ],
 "metadata": {
  "language_info": {
   "name": "python"
  }
 },
 "nbformat": 4,
 "nbformat_minor": 2
}
