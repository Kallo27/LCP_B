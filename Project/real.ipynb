{
 "cells": [
  {
   "cell_type": "code",
   "execution_count": 1,
   "metadata": {},
   "outputs": [],
   "source": [
    "# REAL NOTEBOOK\n",
    "\n",
    "# This notebook runs a simulation for the Solar Dynamo model with the sABC algorithm.\n",
    "# The results of the simulation are all stored in files in the directory Simulations/Real i.\n",
    "# The reason behind this is to have an easier access to the results of already run simulations,\n",
    "# without running them again. This notebook only processes real data!!\n",
    "\n",
    "# NB: In this notebook, there's no function to visualize the results: the visualization is all\n",
    "# contained in the \"visualization_real.ipynb\" notebook.\n",
    "\n",
    "# RULES:\n",
    "\n",
    "# There are two ways to use this notebook:\n",
    "# 1) change all the parameters and then run all -> correct way\n",
    "# 2) change things randomly and not in order and then run -> wrong way\n",
    "# Please be careful, some functions change the directory in which everything is being saved; the\n",
    "# order of the calling of the functions is organized to start from a generic dir, create the dir\n",
    "# Simulations/Simulation i, go to that directory and then, when everythingis finished, go back to\n",
    "# the initial dir!!! If you don't do that, it will stay in the subdir and at the next run it will\n",
    "# create a subdir of a subdir -> if you need to stop midway through because u forgot something, \n",
    "# remember to come back to the initial directory (and eliminate the directory that has not correct\n",
    "# files inside).\n",
    "\n",
    "# GG EZ - kallo27"
   ]
  },
  {
   "cell_type": "code",
   "execution_count": 3,
   "metadata": {},
   "outputs": [],
   "source": [
    "# NEEDED PACKAGES -> no visualization!!\n",
    "\n",
    "using DifferentialEquations\n",
    "using StochasticDelayDiffEq\n",
    "using SpecialFunctions\n",
    "using Distributions\n",
    "using SimulatedAnnealingABC\n",
    "using Distances\n",
    "using DataFrames\n",
    "using FFTW\n",
    "using CSV\n",
    "using XLSX"
   ]
  },
  {
   "cell_type": "code",
   "execution_count": 4,
   "metadata": {},
   "outputs": [
    {
     "data": {
      "text/plain": [
       "reduced_fourier_spectrum (generic function with 2 methods)"
      ]
     },
     "execution_count": 4,
     "metadata": {},
     "output_type": "execute_result"
    }
   ],
   "source": [
    "# FUNCTIONS NEDEED FOR THE MODEL\n",
    "\n",
    "# Box-shaped function for the magnetic field range \n",
    "function f(B, B_max = 10, B_min = 1)\n",
    "  return 1 / 4 * (1 .+ erf.(B .^ 2 .- B_min ^ 2)) .* (1 .- erf.(B .^ 2 .- B_max ^ 2))\n",
    "end\n",
    "\n",
    "# Model function for the DDE\n",
    "function MagneticField(du, u, h, p, t)\n",
    "  N, T, tau, sigma, Bmax = p\n",
    "  q = T / tau\n",
    "\n",
    "  B, dB = u\n",
    "\n",
    "  du[1] = dB\n",
    "  du[2] = - ((2 / tau) * dB + (B / tau^2) + N * h(p, t - q)[1] * f(h(p, t - q)[1], Bmax))\n",
    "end\n",
    "\n",
    "# Noise function for the DDE\n",
    "function noise!(du, u, h, p, t)\n",
    "  N, T, tau, sigma, Bmax = p\n",
    "  du[1] = (sigma * Bmax)\n",
    "end\n",
    "\n",
    "# Distance function in the sABC algorithm\n",
    "function f_dist(θ::Vector{Float64}; type::Int64 = 1, indeces::Union{Vector{Int64}, StepRange{Int64, Int64}} = 1:6:120, fourier_data::Vector{Float64})\n",
    "  prob = SDDEProblem(MagneticField, noise!, B0, h, tspan, θ)\n",
    "  sol = solve(prob, EM(), dt = 0.01)\n",
    "  \n",
    "  simulated_data = sol[1,:]\n",
    "  fourier_transform = fft(simulated_data)\n",
    "  fourier_stats = abs.(fourier_transform[indeces])\n",
    "\n",
    "  rho = [euclidean(fourier_stats[i], fourier_data[i]) for i in 1:length(fourier_stats)]\n",
    "  return rho\n",
    "end\n",
    "\n",
    "# function for the summary statistics\n",
    "function reduced_fourier_spectrum(u::Vector{Float64}, indeces::Union{Vector{Int64}, StepRange{Int64, Int64}} = 1:6:120)\n",
    "  fourier_transform = fft(u)\n",
    "  return abs.(fourier_transform[indeces])\n",
    "end"
   ]
  },
  {
   "cell_type": "code",
   "execution_count": 5,
   "metadata": {},
   "outputs": [
    {
     "data": {
      "text/plain": [
       "save_result (generic function with 1 method)"
      ]
     },
     "execution_count": 5,
     "metadata": {},
     "output_type": "execute_result"
    }
   ],
   "source": [
    "# FUNCTIONS NEEDED FOR SAVING THE RESULTS OF A SIMULATION\n",
    "\n",
    "# function to create a new directory for each simulations, in order to store the needed files\n",
    "function create_directory()\n",
    "  base_path = pwd()\n",
    "  base_path = joinpath(base_path, \"Simulations\")\n",
    "  i = 1\n",
    "  dir_name = \"Real $i\"\n",
    "  dir_path = joinpath(base_path, dir_name)\n",
    "  \n",
    "  while isdir(dir_path)\n",
    "    i += 1\n",
    "    dir_name = \"Real $i\"\n",
    "    dir_path = joinpath(base_path, dir_name)\n",
    "  end\n",
    "  \n",
    "  mkpath(dir_path)\n",
    "  println(\"Directory created at: $dir_path\")\n",
    "  cd(dir_path)\n",
    "end\n",
    "\n",
    "# function to save the prior as a string\n",
    "function get_prior_string(prior)\n",
    "  parts = []\n",
    "  for d in prior.dists\n",
    "    if isa(d, Uniform)\n",
    "      push!(parts, \"Uniform($(minimum(d)), $(maximum(d)))\")\n",
    "    else\n",
    "      error(\"Unsupported distribution type: $(typeof(d))\")\n",
    "    end\n",
    "  end\n",
    "  \n",
    "  return \"product_distribution(\" * join(parts, \", \") * \")\"\n",
    "end\n",
    "\n",
    "# function to save the sabc parameters\n",
    "function save_sabc_params(prior, n_particles::Int, n_simulation::Int, v::Float64, type::Int, indeces::Union{Vector{Int}, StepRange{Int64, Int64}})\n",
    "  curr_path = pwd()\n",
    "  filename = \"sabc_params.csv\"\n",
    "  path = joinpath(curr_path, filename)\n",
    "    \n",
    "  sabc_params = DataFrame(\n",
    "    Parameter = [\"prior\", \"n_particles\", \"n_simulation\", \"v\", \"type\", \"indeces\"],\n",
    "    Value = [get_prior_string(prior), n_particles, n_simulation, v, type, string(indeces)]\n",
    "  )\n",
    "    \n",
    " CSV.write(filename, sabc_params) \n",
    " println(\"Parameters saved to: $path\")\n",
    "end\n",
    "\n",
    "# Function to save the result object of a sABC algorithm\n",
    "function save_result(result::SimulatedAnnealingABC.SABCresult{Vector{Float64}, Float64})\n",
    "  curr_path = pwd()\n",
    "  filenames = [\"eps_hist.csv\", \"u_hist.csv\", \"rho_hist.csv\"]\n",
    "  variables = [result.state.ϵ_history, result.state.u_history, result.state.ρ_history]\n",
    "\n",
    "  for (filename, variable) in zip(filenames, variables)\n",
    "    labels = string.(1:size(variable, 1))\n",
    "    path = joinpath(curr_path, filename)\n",
    "    CSV.write(path, DataFrame(variable, labels))\n",
    "    println(\"$filename data saved to: $path\")\n",
    "  end\n",
    "\n",
    "  filename = \"pop_hist.csv\"\n",
    "  path = joinpath(curr_path, filename)\n",
    "\n",
    "  param_samples = hcat(result.population...)\n",
    "\n",
    "  posterior_params = DataFrame(\n",
    "    N_value = param_samples[1, :],\n",
    "    T_value = param_samples[2, :],\n",
    "    tau_value = param_samples[3, :],\n",
    "    sigma_value = param_samples[4, :],\n",
    "    Bmax_value = param_samples[5, :]\n",
    "  )\n",
    "\n",
    "  CSV.write(path, posterior_params)\n",
    "  println(\"Posterior parameters saved to: $path\")\n",
    "end"
   ]
  },
  {
   "cell_type": "code",
   "execution_count": 9,
   "metadata": {},
   "outputs": [],
   "source": [
    "# EXTRACTING OPEN MAGNETIC FLUX AND SUNSPOT NUMBER RECORDS FROM XLSX FILE\n",
    "\n",
    "# Define DataFrame object\n",
    "data = DataFrame(\n",
    "  year = Int[],\n",
    "  open_magn_flux = Float64[],\n",
    "  open_magn_flux_err = Float64[],\n",
    "  ssa_open_magn_flux = Float64[],\n",
    "  sunspots_num = Float64[],\n",
    "  sunspots_err = Float64[],\n",
    "  ssa_sunspots = Float64[]\n",
    ")\n",
    "\n",
    "# Open file and for each row write data into the DataFrame\n",
    "XLSX.openxlsx(\"SN Usoskin Brehm.xlsx\") do file\n",
    "  sheet = file[\"Data\"] \n",
    "\n",
    "  for row in XLSX.eachrow(sheet)\n",
    "    if isa(row[2], Number)\n",
    "      push!(data, (\n",
    "        year = row[2],\n",
    "        open_magn_flux = row[3],\n",
    "        open_magn_flux_err = row[4],\n",
    "        ssa_open_magn_flux = row[5],\n",
    "        sunspots_num = row[7],\n",
    "        sunspots_err = row[8],\n",
    "        ssa_sunspots = row[9]\n",
    "      ))\n",
    "    end\n",
    "  end\n",
    "end"
   ]
  },
  {
   "cell_type": "code",
   "execution_count": 10,
   "metadata": {},
   "outputs": [
    {
     "name": "stdout",
     "output_type": "stream",
     "text": [
      "Directory created at: /mnt/c/Users/Utente/LCP_B/Project/Simulations/Real 1\n"
     ]
    }
   ],
   "source": [
    "# DIRECTORY MANAGING\n",
    "\n",
    "# Current directory\n",
    "initial_directory = pwd()\n",
    "\n",
    "# New directory\n",
    "create_directory()\n",
    "\n",
    "# NB: After \"create_directory\", we move to the new directory.\n",
    "# DON'T RUN THIS AGAIN, wait for the simulation to finish!!!! If you made errors,\n",
    "# eliminate the Simulations/Simulation i directory and then rerun everything"
   ]
  },
  {
   "cell_type": "code",
   "execution_count": 11,
   "metadata": {},
   "outputs": [
    {
     "name": "stdout",
     "output_type": "stream",
     "text": [
      "Parameters saved to: /mnt/c/Users/Utente/LCP_B/Project/Simulations/Real 1/sabc_params.csv\n"
     ]
    }
   ],
   "source": [
    "# SIMULATION PARAMETERS MANAGING\n",
    "\n",
    "# Parameters that can be tuned for new simulations\n",
    "prior = product_distribution(Uniform(1, 15), Uniform(0.1, 15.0), Uniform(0.1, 6.0), Uniform(0.01, 0.3), Uniform(1, 15))\n",
    "n_particles = 50\n",
    "n_simulation = 1000\n",
    "v = 1.0\n",
    "type = 1\n",
    "indeces = 1:6:120\n",
    "\n",
    "# Writing on file \"sabc_params.csv\" of the values set in this cell.\n",
    "save_sabc_params(prior, n_particles, n_simulation, v, type, indeces)"
   ]
  },
  {
   "cell_type": "code",
   "execution_count": 16,
   "metadata": {},
   "outputs": [
    {
     "name": "stderr",
     "output_type": "stream",
     "text": [
      "\u001b[36m\u001b[1m[ \u001b[22m\u001b[39m\u001b[36m\u001b[1mInfo: \u001b[22m\u001b[39mUsing threads: 4 \n",
      "\u001b[36m\u001b[1m[ \u001b[22m\u001b[39m\u001b[36m\u001b[1mInfo: \u001b[22m\u001b[39mSet BLAS threads = 1 \n",
      "\u001b[36m\u001b[1m[ \u001b[22m\u001b[39m\u001b[36m\u001b[1mInfo: \u001b[22m\u001b[39mSet 'pinthreads(:cores)' for optimal multi-threading performance\n",
      "\u001b[36m\u001b[1m[ \u001b[22m\u001b[39m\u001b[36m\u001b[1mInfo: \u001b[22m\u001b[39mInitializing population...\n",
      "\u001b[36m\u001b[1m[ \u001b[22m\u001b[39m\u001b[36m\u001b[1mInfo: \u001b[22m\u001b[39mInitial resampling (δ = 0.1) - ESS = 24.094877737898212 \n",
      "\u001b[36m\u001b[1m[ \u001b[22m\u001b[39m\u001b[36m\u001b[1mInfo: \u001b[22m\u001b[39mPopulation with 50 particles initialised.\n",
      "\u001b[36m\u001b[1m[ \u001b[22m\u001b[39m\u001b[36m\u001b[1mInfo: \u001b[22m\u001b[39mInitial ϵ = [0.35451088284646404, 0.28674167065515743, 0.29276896958322557, 0.3402750751270595, 0.29344749918023794, 0.2968673625461099, 0.38549864785883126, 0.27195136402439657, 0.28740442056228777, 0.357105123035525, 0.2907440910958559, 0.27008318115677066, 0.3132148795124589, 0.2795620505692341, 0.28806888609666415, 0.33784145302408536, 0.3139498480862955, 0.3943288067736222, 0.3668404595508872, 0.38166312525063273]\n",
      "\u001b[36m\u001b[1m[ \u001b[22m\u001b[39m\u001b[36m\u001b[1mInfo: \u001b[22m\u001b[39m2024-06-01T15:43:09.329 -- Starting population updates.\n",
      "\u001b[36m\u001b[1m[ \u001b[22m\u001b[39m\u001b[36m\u001b[1mInfo: \u001b[22m\u001b[39m2024-06-01T15:43:27.601  All particles have been updated 19 times.\n"
     ]
    },
    {
     "data": {
      "text/plain": [
       "Approximate posterior sample with 50 particles:\n",
       "  - simulations used: 1000\n",
       "  - average transformed distance: 0.132\n",
       "  - ϵ: [0.002467, 0.1226, 0.1015, 0.1069, 0.03099, 0.1226, 0.1123, 0.1052, 0.1161, 0.1147, 0.1165, 0.1171, 0.1203, 0.1211, 0.1033, 0.1041, 0.09712, 0.07149, 0.1223, 0.1226]\n",
       "  - population resampling: 1\n",
       "  - acceptance rate: 0.06842\n",
       "The sample can be accessed with the field `population`.\n",
       "The history of ϵ can be accessed with the field `state.ϵ_history`.\n",
       " -------------------------------------- \n"
      ]
     },
     "metadata": {},
     "output_type": "display_data"
    },
    {
     "name": "stdout",
     "output_type": "stream",
     "text": [
      "eps_hist.csv data saved to: /mnt/c/Users/Utente/LCP_B/Project/Simulations/Real 1/eps_hist.csv\n",
      "u_hist.csv data saved to: /mnt/c/Users/Utente/LCP_B/Project/Simulations/Real 1/u_hist.csv\n",
      "rho_hist.csv data saved to: /mnt/c/Users/Utente/LCP_B/Project/Simulations/Real 1/rho_hist.csv\n",
      "Posterior parameters saved to: /mnt/c/Users/Utente/LCP_B/Project/Simulations/Real 1/pop_hist.csv\n"
     ]
    }
   ],
   "source": [
    "# SIMULATION\n",
    "\n",
    "# Initial conditions\n",
    "B0 = [3.0, 0.0]\n",
    "h0 = [0.0, 0.0]\n",
    "noise0 = [1.0]\n",
    "h(p, t) = h0\n",
    "tmin = data.year[1]; tmax = data.year[length(data.year)]\n",
    "tspan = (tmin, tmax)\n",
    "dt = 0.01\n",
    "\n",
    "# Creation of the summary statistics from the simulated data\n",
    "u = data.open_magn_flux\n",
    "sim_ss = reduced_fourier_spectrum(u, indeces)\n",
    "\n",
    "# Actual usage of the sABC algorithm\n",
    "result = sabc(f_dist, prior;\n",
    "              n_particles = n_particles, \n",
    "              n_simulation = n_simulation,\n",
    "              v = v,\n",
    "              type = type,\n",
    "              indeces = indeces,\n",
    "              fourier_data = sim_ss)\n",
    "\n",
    "# Display of the summary of the results\n",
    "display(result)\n",
    "\n",
    "# Saving the results to the files: \"eps_hist.csv\", \"u_hist.csv\", \"rho_hist.csv\", \"pop_hist.csv\".\n",
    "save_result(result)"
   ]
  },
  {
   "cell_type": "code",
   "execution_count": 17,
   "metadata": {},
   "outputs": [
    {
     "data": {
      "text/plain": [
       "\"/mnt/c/Users/Utente/LCP_B/Project\""
      ]
     },
     "execution_count": 17,
     "metadata": {},
     "output_type": "execute_result"
    }
   ],
   "source": [
    "# DIRECTORY MANAGING\n",
    "\n",
    "# WE go back to the initial directory\n",
    "cd(initial_directory)\n",
    "pwd()"
   ]
  }
 ],
 "metadata": {
  "kernelspec": {
   "display_name": "Julia 1.10.3",
   "language": "julia",
   "name": "julia-1.10"
  },
  "language_info": {
   "file_extension": ".jl",
   "mimetype": "application/julia",
   "name": "julia",
   "version": "1.10.3"
  }
 },
 "nbformat": 4,
 "nbformat_minor": 2
}
