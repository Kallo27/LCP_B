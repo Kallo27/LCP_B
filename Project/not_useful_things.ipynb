{
 "cells": [
  {
   "cell_type": "code",
   "execution_count": null,
   "metadata": {
    "vscode": {
     "languageId": "julia"
    }
   },
   "outputs": [],
   "source": [
    "y_obs = sunsopts_num\n",
    "\n",
    "# Modello Bayesian con Turing\n",
    "@model function bayesian_model(y_obs)\n",
    "    N ~ Uniform(0, 10)\n",
    "    q ~ Uniform(0, 10)\n",
    "    tau = 1\n",
    "\n",
    "    # Condizioni iniziali e setup ODE\n",
    "    tspan = (0.0, length(y_obs))\n",
    "    p = [N, q, tau]\n",
    "    \n",
    "    # Risolvi l'ODE\n",
    "    prob = DDEProblem(MagneticField, B0, h, tspan, p)\n",
    "    solution = solve(prob, MethodOfSteps(Tsit5()), saveat = 0.01)\n",
    "    B_solution = [sol[1] for sol in solution.u]\n",
    "\n",
    "    # Likelihood\n",
    "    for i in 1:length(y_obs)\n",
    "        y_obs[i] ~ Normal(B_solution[i], 1.0)\n",
    "    end\n",
    "end\n",
    "\n",
    "# Esecuzione MCMC\n",
    "model = bayesian_model(y_obs)\n",
    "chain = sample(model, NUTS(), 100)"
   ]
  }
 ],
 "metadata": {
  "language_info": {
   "name": "python"
  }
 },
 "nbformat": 4,
 "nbformat_minor": 2
}
