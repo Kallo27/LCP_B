{
 "cells": [
  {
   "cell_type": "code",
   "execution_count": 1,
   "metadata": {},
   "outputs": [],
   "source": [
    "# SIMULATIONS NOTEBOOK\n",
    "\n",
    "# This notebook runs a simulation for the Solar Dynamo model with the sABC algorithm.\n",
    "# The results of the simulation, as well as the parameters used for the simulated data and \n",
    "# the simulation itself are all stored in files in the directory Simulations/Simulations i.\n",
    "# The reason behind this is to have an easier access to the results of already run simulations,\n",
    "# without running them again.\n",
    "\n",
    "# NB: In this notebook, there's no function to visualize the results: the visualization is all\n",
    "# contained in the \"visualization.ipynb\" notebook.\n",
    "\n",
    "# RULES:\n",
    "\n",
    "# There are two ways to use this notebook:\n",
    "# 1) change all the parameters and then run all -> correct way\n",
    "# 2) change things randomly and not in order and then run -> wrong way\n",
    "# Please be careful, some functions change the directory in which everything is being saved; the\n",
    "# order of the calling of the functions is organized to start from a generic dir, create the dir\n",
    "# Simulations/Simulation i, go to that directory and then, when everythingis finished, go back to\n",
    "# the initial dir!!! If you don't do that, it will stay in the subdir and at the next run it will\n",
    "# create a subdir of a subdir -> if you need to stop midway through because u forgot something, \n",
    "# remember to come back to the initial directory (and eliminate the directory that has not correct\n",
    "# files inside).\n",
    "\n",
    "# GG EZ - kallo27"
   ]
  },
  {
   "cell_type": "code",
   "execution_count": 2,
   "metadata": {},
   "outputs": [],
   "source": [
    "# NEEDED PACKAGES -> no visualization!!\n",
    "\n",
    "using StochasticDelayDiffEq\n",
    "using SpecialFunctions\n",
    "using Distributions\n",
    "using SimulatedAnnealingABC\n",
    "using Distances\n",
    "using DataFrames\n",
    "using FFTW\n",
    "using CSV"
   ]
  },
  {
   "cell_type": "code",
   "execution_count": 3,
   "metadata": {},
   "outputs": [
    {
     "data": {
      "text/plain": [
       "reduced_fourier_spectrum (generic function with 2 methods)"
      ]
     },
     "metadata": {},
     "output_type": "display_data"
    }
   ],
   "source": [
    "# FUNCTIONS NEDEED FOR THE MODEL\n",
    "\n",
    "# Box-shaped function for the magnetic field range \n",
    "function f(B, B_max = 10, B_min = 1)\n",
    "  return 1 / 4 * (1 .+ erf.(B .^ 2 .- B_min ^ 2)) .* (1 .- erf.(B .^ 2 .- B_max ^ 2))\n",
    "end\n",
    "\n",
    "# Model function for the DDE\n",
    "function MagneticField(du, u, h, p, t)\n",
    "  N, T, tau, sigma, Bmax = p\n",
    "  q = T / tau\n",
    "\n",
    "  B, dB = u\n",
    "\n",
    "  du[1] = dB\n",
    "  du[2] = - ((2 / tau) * dB + (B / tau^2) + N * h(p, t - q)[1] * f(h(p, t - q)[1], Bmax))\n",
    "end\n",
    "\n",
    "# Noise function for the DDE\n",
    "function noise!(du, u, h, p, t)\n",
    "  N, T, tau, sigma, Bmax = p\n",
    "  du[1] = (sigma * Bmax)\n",
    "end\n",
    "\n",
    "# Distance function in the sABC algorithm\n",
    "function f_dist(θ::Vector{Float64}; type::Int64 = 1, indeces::Union{Vector{Int64}, StepRange{Int64, Int64}} = 1:6:120, fourier_data::Vector{Float64})\n",
    "  prob = SDDEProblem(MagneticField, noise!, B0, h, tspan, θ)\n",
    "  sol = solve(prob, EM(), dt = dt)\n",
    "  \n",
    "  simulated_data = sol[1,:]\n",
    "  fourier_transform = fft(simulated_data)\n",
    "  fourier_stats = abs.(fourier_transform[indeces])\n",
    "\n",
    "  rho = [euclidean(fourier_stats[i], fourier_data[i]) for i in 1:length(fourier_stats)]\n",
    "  return rho\n",
    "end\n",
    "\n",
    "# function for the summary statistics\n",
    "function reduced_fourier_spectrum(u::Vector{Float64}, indeces::Union{Vector{Int64}, StepRange{Int64, Int64}} = 1:6:120)\n",
    "  fourier_transform = fft(u)\n",
    "  return abs.(fourier_transform[indeces])\n",
    "end"
   ]
  },
  {
   "cell_type": "code",
   "execution_count": 4,
   "metadata": {},
   "outputs": [
    {
     "data": {
      "text/plain": [
       "save_result (generic function with 1 method)"
      ]
     },
     "metadata": {},
     "output_type": "display_data"
    }
   ],
   "source": [
    "# FUNCTIONS NEEDED FOR SAVING THE RESULTS OF A SIMULATION\n",
    "\n",
    "# function to create a new directory for each simulations, in order to store the needed files\n",
    "function create_directory()\n",
    "  base_path = pwd()\n",
    "  base_path = joinpath(base_path, \"Simulations\")\n",
    "  i = 1\n",
    "  dir_name = \"Simulation $i\"\n",
    "  dir_path = joinpath(base_path, dir_name)\n",
    "  \n",
    "  while isdir(dir_path)\n",
    "    i += 1\n",
    "    dir_name = \"Simulation $i\"\n",
    "    dir_path = joinpath(base_path, dir_name)\n",
    "  end\n",
    "  \n",
    "  mkpath(dir_path)\n",
    "  println(\"Directory created at: $dir_path\")\n",
    "  cd(dir_path)\n",
    "end\n",
    "\n",
    "# function to save the params of the simulated data\n",
    "function write_params_sim(par::Vector{Float64}, tspan::Tuple{Int, Int}, dt::Float64, B0::Vector{Float64}, h0::Vector{Float64}, noise0::Vector{Float64})\n",
    "  df = DataFrame(\n",
    "    Parameter = [\"N\", \"T\", \"tau\", \"sigma\", \"B_max\", \"tspan\", \"dt\", \"B0\", \"h\", \"noise0\"],\n",
    "    Value = [par[1], par[2], par[3], par[4], par[5], tspan, dt, B0, h0, noise0]\n",
    "  )\n",
    "\n",
    "  CSV.write(\"parameters.csv\", df)\n",
    "end\n",
    "\n",
    "# function to save the solution of the SDDE for the simulated data\n",
    "function save_solution(sol::Union{RODESolution, Vector{RODESolution}})\n",
    "  curr_path = pwd()\n",
    "  filename = \"simulated_sol.csv\"\n",
    "  path = joinpath(curr_path, filename)\n",
    "\n",
    "  solution_df = DataFrame(Time = sol.t, u = sol[1, :], du = sol[2, :])\n",
    "  CSV.write(filename, solution_df)\n",
    "  println(\"Solution saved to file: $path\")\n",
    "end\n",
    "\n",
    "# function to save the prior as a string\n",
    "function get_prior_string(prior)\n",
    "  parts = []\n",
    "  for d in prior.dists\n",
    "    if isa(d, Uniform)\n",
    "      push!(parts, \"Uniform($(minimum(d)), $(maximum(d)))\")\n",
    "    else\n",
    "      error(\"Unsupported distribution type: $(typeof(d))\")\n",
    "    end\n",
    "  end\n",
    "  \n",
    "  return \"product_distribution(\" * join(parts, \", \") * \")\"\n",
    "end\n",
    "\n",
    "# function to save the sabc parameters\n",
    "function save_sabc_params(prior, n_particles::Int, n_simulation::Int, v::Float64, type::Int, indeces::Union{Vector{Int}, StepRange{Int64, Int64}})\n",
    "  curr_path = pwd()\n",
    "  filename = \"sabc_params.csv\"\n",
    "  path = joinpath(curr_path, filename)\n",
    "    \n",
    "  sabc_params = DataFrame(\n",
    "    Parameter = [\"prior\", \"n_particles\", \"n_simulation\", \"v\", \"type\", \"indeces\"],\n",
    "    Value = [get_prior_string(prior), n_particles, n_simulation, v, type, string(indeces)]\n",
    "  )\n",
    "    \n",
    " CSV.write(filename, sabc_params) \n",
    " println(\"Parameters saved to: $path\")\n",
    "end\n",
    "\n",
    "# Function to save the result object of a sABC algorithm\n",
    "function save_result(result::SimulatedAnnealingABC.SABCresult{Vector{Float64}, Float64})\n",
    "  curr_path = pwd()\n",
    "  filenames = [\"eps_hist.csv\", \"u_hist.csv\", \"rho_hist.csv\"]\n",
    "  variables = [result.state.ϵ_history, result.state.u_history, result.state.ρ_history]\n",
    "\n",
    "  for (filename, variable) in zip(filenames, variables)\n",
    "    labels = string.(1:size(variable, 1))\n",
    "    path = joinpath(curr_path, filename)\n",
    "    CSV.write(path, DataFrame(variable, labels))\n",
    "    println(\"$filename data saved to: $path\")\n",
    "  end\n",
    "\n",
    "  filename = \"pop_hist.csv\"\n",
    "  path = joinpath(curr_path, filename)\n",
    "\n",
    "  param_samples = hcat(result.population...)\n",
    "\n",
    "  posterior_params = DataFrame(\n",
    "    N_value = param_samples[1, :],\n",
    "    T_value = param_samples[2, :],\n",
    "    tau_value = param_samples[3, :],\n",
    "    sigma_value = param_samples[4, :],\n",
    "    Bmax_value = param_samples[5, :]\n",
    "  )\n",
    "\n",
    "  CSV.write(path, posterior_params)\n",
    "  println(\"Posterior parameters saved to: $path\")\n",
    "end"
   ]
  },
  {
   "cell_type": "code",
   "execution_count": 5,
   "metadata": {},
   "outputs": [
    {
     "name": "stdout",
     "output_type": "stream",
     "text": [
      "Directory created at: /home/ubuntu/LCP_B/Project/Simulations/Simulation 3\n"
     ]
    }
   ],
   "source": [
    "# DIRECTORY MANAGING\n",
    "\n",
    "# Current directory\n",
    "initial_directory = pwd()\n",
    "\n",
    "# New directory\n",
    "create_directory()\n",
    "\n",
    "# NB: After \"create_directory\", we move to the new directory.\n",
    "# DON'T RUN THIS AGAIN, wait for the simulation to finish!!!! If you made errors,\n",
    "# eliminate the Simulations/Simulation i directory and then rerun everything"
   ]
  },
  {
   "cell_type": "code",
   "execution_count": 6,
   "metadata": {},
   "outputs": [
    {
     "data": {
      "text/plain": [
       "\"parameters.csv\""
      ]
     },
     "metadata": {},
     "output_type": "display_data"
    }
   ],
   "source": [
    "# SIMULATED DATA PARAMETERS MANAGING\n",
    "\n",
    "# Parameters for the simulated data\n",
    "N = 6.2\n",
    "T = 3.1\n",
    "tau = 3.5\n",
    "sigma = 0.04\n",
    "B_max = 6.0\n",
    "\n",
    "par = [3.52515,\t0.763072,\t0.72469, 0.0725866, 6.6435]\n",
    "\n",
    "# Time\n",
    "tspan = (971, 1899)\n",
    "dt = 0.01\n",
    "\n",
    "# Initial conditions\n",
    "B0 = [3.0, 0.0]\n",
    "h0 = [0.0, 0.0]\n",
    "noise0 = [1.0]\n",
    "\n",
    "# Writing on file \"parameters.csv\" of the values set in this cell.\n",
    "write_params_sim(par, tspan, dt, B0, h0, noise0)"
   ]
  },
  {
   "cell_type": "code",
   "execution_count": 7,
   "metadata": {},
   "outputs": [
    {
     "name": "stdout",
     "output_type": "stream",
     "text": [
      "Solution saved to file: /home/ubuntu/LCP_B/Project/Simulations/Simulation 3/simulated_sol.csv\n"
     ]
    }
   ],
   "source": [
    "# DATA SIMULATION\n",
    "\n",
    "# Data simulation with the chosen parameter\n",
    "h(p, t) = h0\n",
    "prob = SDDEProblem(MagneticField, noise!, B0, h, tspan, par)\n",
    "sol = solve(prob, EM(), dt = dt)\n",
    "\n",
    "# Important solution data that are necessary afterwards\n",
    "t = sol.t\n",
    "u = sol[1, :]\n",
    "du = sol[2, :]\n",
    "\n",
    "# Writing of the solution of the SDDE on file \"simulated_sol.csv\"\n",
    "save_solution(sol)"
   ]
  },
  {
   "cell_type": "code",
   "execution_count": 13,
   "metadata": {},
   "outputs": [
    {
     "name": "stdout",
     "output_type": "stream",
     "text": [
      "Parameters saved to: /home/ubuntu/LCP_B/Project/Simulations/Simulation 3/sabc_params.csv\n"
     ]
    }
   ],
   "source": [
    "# SIMULATION PARAMETERS MANAGING\n",
    "\n",
    "# Parameters that can be tuned for new simulations\n",
    "prior = product_distribution(Uniform(1, 15), Uniform(0.1, 15.0), Uniform(0.1, 6.0), Uniform(0.01, 0.3), Uniform(1, 15))\n",
    "n_particles = 50\n",
    "n_simulation = 1000\n",
    "v = 1.0\n",
    "type = 1\n",
    "indeces = 1:6:120\n",
    "\n",
    "# Writing on file \"sabc_params.csv\" of the values set in this cell.\n",
    "save_sabc_params(prior, n_particles, n_simulation, v, type, indeces)"
   ]
  },
  {
   "cell_type": "code",
   "execution_count": 14,
   "metadata": {},
   "outputs": [
    {
     "name": "stderr",
     "output_type": "stream",
     "text": [
      "┌ Info: Preparing to run SABC algorithm: 'single-epsilon'\n",
      "└ @ SimulatedAnnealingABC /home/ubuntu/.julia/packages/SimulatedAnnealingABC/e8QsC/src/SimulatedAnnealingABC.jl:188\n",
      "┌ Info: Using threads: 8 \n",
      "└ @ SimulatedAnnealingABC /home/ubuntu/.julia/packages/SimulatedAnnealingABC/e8QsC/src/SimulatedAnnealingABC.jl:199\n",
      "┌ Info: Set BLAS threads = 1 \n",
      "└ @ SimulatedAnnealingABC /home/ubuntu/.julia/packages/SimulatedAnnealingABC/e8QsC/src/SimulatedAnnealingABC.jl:202\n",
      "┌ Info: Set 'pinthreads(:cores)' for optimal multi-threading performance\n",
      "└ @ SimulatedAnnealingABC /home/ubuntu/.julia/packages/SimulatedAnnealingABC/e8QsC/src/SimulatedAnnealingABC.jl:204\n",
      "┌ Info: Initializing population...\n",
      "└ @ SimulatedAnnealingABC /home/ubuntu/.julia/packages/SimulatedAnnealingABC/e8QsC/src/SimulatedAnnealingABC.jl:223\n",
      "┌ Warning: Instability detected. Aborting\n",
      "└ @ SciMLBase /home/ubuntu/.julia/packages/SciMLBase/roUH9/src/integrator_interface.jl:641\n"
     ]
    },
    {
     "ename": "BoundsError",
     "evalue": "BoundsError: attempt to access 1-element Vector{ComplexF64} at index [7]",
     "output_type": "error",
     "traceback": [
      "BoundsError: attempt to access 1-element Vector{ComplexF64} at index [7]\n",
      "\n",
      "Stacktrace:\n",
      " [1] getindex\n",
      "   @ ./essentials.jl:13 [inlined]\n",
      " [2] getindex(A::Vector{ComplexF64}, I::StepRange{Int64, Int64})\n",
      "   @ Base ./array.jl:996\n",
      " [3] f_dist(θ::Vector{Float64}; type::Int64, indeces::StepRange{Int64, Int64}, fourier_data::Vector{Float64})\n",
      "   @ Main ~/LCP_B/Project/simulations.ipynb:32\n",
      " [4] f_dist\n",
      "   @ ~/LCP_B/Project/simulations.ipynb:26 [inlined]\n",
      " [5] initialization(::typeof(f_dist), ::Distributions.ProductDistribution{1, 0, NTuple{5, Uniform{Float64}}, Continuous, Float64}; n_particles::Int64, n_simulation::Int64, v::Float64, β::Float64, δ::Float64, type::Int64, kwargs::@Kwargs{indeces::StepRange{Int64, Int64}, fourier_data::Vector{Float64}})\n",
      "   @ SimulatedAnnealingABC ~/.julia/packages/SimulatedAnnealingABC/e8QsC/src/SimulatedAnnealingABC.jl:227\n",
      " [6] initialization\n",
      "   @ ~/.julia/packages/SimulatedAnnealingABC/e8QsC/src/SimulatedAnnealingABC.jl:175 [inlined]\n",
      " [7] sabc(::typeof(f_dist), ::Distributions.ProductDistribution{1, 0, NTuple{5, Uniform{Float64}}, Continuous, Float64}; n_particles::Int64, n_simulation::Int64, type::Int64, resample::Int64, v::Float64, β::Float64, δ::Float64, checkpoint_history::Int64, checkpoint_display::Int64, kwargs::@Kwargs{indeces::StepRange{Int64, Int64}, fourier_data::Vector{Float64}})\n",
      "   @ SimulatedAnnealingABC ~/.julia/packages/SimulatedAnnealingABC/e8QsC/src/SimulatedAnnealingABC.jl:565\n",
      " [8] top-level scope\n",
      "   @ ~/LCP_B/Project/simulations.ipynb:7"
     ]
    }
   ],
   "source": [
    "# SIMULATION\n",
    "\n",
    "# Creation of the summary statistics from the simulated data\n",
    "sim_ss = reduced_fourier_spectrum(u, indeces)\n",
    "\n",
    "# Actual usage of the sABC algorithm\n",
    "result = sabc(f_dist, prior;\n",
    "              n_particles = n_particles, \n",
    "              n_simulation = n_simulation,\n",
    "              v = v,\n",
    "              type = type,\n",
    "              indeces = indeces,\n",
    "              fourier_data = sim_ss)\n",
    "\n",
    "# Display of the summary of the results\n",
    "display(result)\n",
    "\n",
    "# Saving the results to the files: \"eps_hist.csv\", \"u_hist.csv\", \"rho_hist.csv\", \"pop_hist.csv\".\n",
    "save_result(result)"
   ]
  },
  {
   "cell_type": "code",
   "execution_count": 8,
   "metadata": {},
   "outputs": [
    {
     "data": {
      "text/plain": [
       "\"/home/ubuntu/LCP_B/Project\""
      ]
     },
     "metadata": {},
     "output_type": "display_data"
    }
   ],
   "source": [
    "# DIRECTORY MANAGING\n",
    "\n",
    "# WE go back to the initial directory\n",
    "cd(initial_directory)\n",
    "pwd()"
   ]
  }
 ],
 "metadata": {
  "kernelspec": {
   "display_name": "Julia 1.10.4",
   "language": "julia",
   "name": "julia-1.10"
  },
  "language_info": {
   "file_extension": ".jl",
   "mimetype": "application/julia",
   "name": "julia",
   "version": "1.10.4"
  }
 },
 "nbformat": 4,
 "nbformat_minor": 2
}
