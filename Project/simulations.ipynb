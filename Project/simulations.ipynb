{
 "cells": [
  {
   "cell_type": "code",
   "execution_count": 19,
   "metadata": {},
   "outputs": [],
   "source": [
    "using DifferentialEquations\n",
    "using StochasticDelayDiffEq\n",
    "using SpecialFunctions\n",
    "using Plots\n",
    "using XLSX\n",
    "using Distributions\n",
    "using SimulatedAnnealingABC\n",
    "using Distances\n",
    "using DataFrames\n",
    "using FFTW\n",
    "using CSV"
   ]
  },
  {
   "cell_type": "code",
   "execution_count": null,
   "metadata": {},
   "outputs": [],
   "source": [
    "# EXTRACTING OPEN MAGNETIC FLUX AND SUNSPOT NUMBER RECORDS FROM XLSX FILE\n",
    "\n",
    "# Define DataFrame object\n",
    "data = DataFrame(\n",
    "  year = Int[],\n",
    "  open_magn_flux = Float64[],\n",
    "  open_magn_flux_err = Float64[],\n",
    "  ssa_open_magn_flux = Float64[],\n",
    "  sunspots_num = Float64[],\n",
    "  sunspots_err = Float64[],\n",
    "  ssa_sunspots = Float64[]\n",
    ")\n",
    "\n",
    "# Open file and for each row write data into the DataFrame\n",
    "XLSX.openxlsx(\"SN Usoskin Brehm.xlsx\") do file\n",
    "  sheet = file[\"Data\"] \n",
    "\n",
    "  for row in XLSX.eachrow(sheet)\n",
    "    if isa(row[2], Number)\n",
    "      push!(data, (\n",
    "        year = row[2],\n",
    "        open_magn_flux = row[3],\n",
    "        open_magn_flux_err = row[4],\n",
    "        ssa_open_magn_flux = row[5],\n",
    "        sunspots_num = row[7],\n",
    "        sunspots_err = row[8],\n",
    "        ssa_sunspots = row[9]\n",
    "      ))\n",
    "    end\n",
    "  end\n",
    "end"
   ]
  },
  {
   "cell_type": "code",
   "execution_count": 2,
   "metadata": {},
   "outputs": [
    {
     "data": {
      "text/plain": [
       "create_directory (generic function with 1 method)"
      ]
     },
     "execution_count": 2,
     "metadata": {},
     "output_type": "execute_result"
    }
   ],
   "source": [
    "# FUNCTIONS\n",
    "\n",
    "# Box-shaped function for the magnetic field range \n",
    "function f(B, B_max = 10, B_min = 1)\n",
    "  return 1 / 4 * (1 .+ erf.(B .^ 2 .- B_min ^ 2)) .* (1 .- erf.(B .^ 2 .- B_max ^ 2))\n",
    "end\n",
    "\n",
    "# Model function for the DDE\n",
    "function MagneticField(du, u, h, p, t)\n",
    "  N, T, tau, sigma, Bmax = p\n",
    "  q = T / tau\n",
    "\n",
    "  B, dB = u\n",
    "\n",
    "  du[1] = dB\n",
    "  du[2] = - ((2 / tau) * dB + (B / tau^2) + N * h(p, t - q)[1] * f(h(p, t - q)[1]))\n",
    "end\n",
    "\n",
    "# Noise function for the DDE\n",
    "function noise!(du, u, h, p, t)\n",
    "  N, T, tau, sigma, Bmax = p\n",
    "  du[1] = (sigma * Bmax)\n",
    "end\n",
    "\n",
    "# Distance function in the sABC algorithm\n",
    "function f_dist(θ::Vector{Float64}; type::Int64 = 1, indeces::Vector{Int64} = 1:6:120, fourier_data::Vector{Int64})\n",
    "  prob = SDDEProblem(MagneticField, noise, B0, h, tspan, θ)\n",
    "  sol = solve(prob, EM(), dt = 0.01)\n",
    "  \n",
    "  simulated_data = sol[1,:]\n",
    "  fourier_transform = fft(simulated_data)\n",
    "  fourier_stats = abs.(fourier_transform[indeces])\n",
    "\n",
    "  rho = [euclidean(fourier_stats[i], fourier_data[i]) for i in 1:length(fourier_stats)]\n",
    "  return rho\n",
    "end\n",
    "\n",
    "# function to create a new directory for each simulations, in order to store the needed files\n",
    "function create_directory()\n",
    "  base_path = pwd()\n",
    "  base_path = joinpath(base_path, \"Simulations\")\n",
    "  i = 1\n",
    "  dir_name = \"Simulation $i\"\n",
    "  dir_path = joinpath(base_path, dir_name)\n",
    "  \n",
    "  while isdir(dir_path)\n",
    "    i += 1\n",
    "    dir_name = \"Simulation $i\"\n",
    "    dir_path = joinpath(base_path, dir_name)\n",
    "  end\n",
    "  \n",
    "  mkpath(dir_path)\n",
    "  println(\"Directory created at: $dir_path\")\n",
    "  cd(dir_path)\n",
    "end"
   ]
  },
  {
   "cell_type": "code",
   "execution_count": 3,
   "metadata": {},
   "outputs": [
    {
     "data": {
      "text/plain": [
       "create_directory (generic function with 1 method)"
      ]
     },
     "execution_count": 3,
     "metadata": {},
     "output_type": "execute_result"
    }
   ],
   "source": [
    "# function to create a new directory for each simulations, in order to store the needed files\n",
    "function create_directory()\n",
    "  base_path = pwd()\n",
    "  base_path = joinpath(base_path, \"Simulations\")\n",
    "  i = 1\n",
    "  dir_name = \"Simulation $i\"\n",
    "  dir_path = joinpath(base_path, dir_name)\n",
    "  \n",
    "  while isdir(dir_path)\n",
    "    i += 1\n",
    "    dir_name = \"Simulation $i\"\n",
    "    dir_path = joinpath(base_path, dir_name)\n",
    "  end\n",
    "  \n",
    "  mkpath(dir_path)\n",
    "  println(\"Directory created at: $dir_path\")\n",
    "  cd(dir_path)\n",
    "end"
   ]
  },
  {
   "cell_type": "code",
   "execution_count": 6,
   "metadata": {},
   "outputs": [
    {
     "name": "stdout",
     "output_type": "stream",
     "text": [
      "Directory created at: /mnt/c/Users/Utente/LCP_B/Project/Simulations/Simulation 1\n"
     ]
    }
   ],
   "source": [
    "create_directory()"
   ]
  },
  {
   "cell_type": "code",
   "execution_count": 4,
   "metadata": {},
   "outputs": [
    {
     "data": {
      "text/plain": [
       "write_params_sim (generic function with 1 method)"
      ]
     },
     "execution_count": 4,
     "metadata": {},
     "output_type": "execute_result"
    }
   ],
   "source": [
    "function write_params_sim(par::Vector{Float64}, tspan::Tuple{Int, Int}, B0::Vector{Float64}, h::Function, noise0::Vector{Float64})\n",
    "  open(\"Parameters.txt\", \"w\") do io\n",
    "      println(io, \"Simulated data parameters:\")\n",
    "      println(io, \"N = $(par[1])\")\n",
    "      println(io, \"T = $(par[2])\")\n",
    "      println(io, \"tau = $(par[3])\")\n",
    "      println(io, \"sigma = $(par[4])\")\n",
    "      println(io, \"B_max = $(par[5])\\n\")\n",
    "\n",
    "      println(io, \"Time:\")\n",
    "      println(io, \"tspan = $tspan\\n\")\n",
    "      \n",
    "      println(io, \"Initial conditions:\")\n",
    "      println(io, \"B0 = $(B0)\")\n",
    "      println(io, \"h(p, t) = $(string(h))\")\n",
    "      println(io, \"noise0 = $(noise0)\")\n",
    "  end\n",
    "end"
   ]
  },
  {
   "cell_type": "code",
   "execution_count": 7,
   "metadata": {},
   "outputs": [],
   "source": [
    "N = 6.2\n",
    "T0 = 3\n",
    "T1 = 0.1\n",
    "tau = 3.5\n",
    "T = T0 + T1\n",
    "sigma = 0.04\n",
    "B_max = 6.0\n",
    "\n",
    "par = [N, T, tau, sigma, B_max]\n",
    "\n",
    "# Define initial conditions\n",
    "B0 = [3.0, 0.0]\n",
    "tspan = (0, 1000)\n",
    "h(p, t) = [0.0, 0.0]\n",
    "\n",
    "# Define noise initial conditions\n",
    "noise0 = [1.0]\n",
    "\n",
    "write_params_sim(par, tspan, B0, h, noise0)"
   ]
  },
  {
   "cell_type": "code",
   "execution_count": 8,
   "metadata": {},
   "outputs": [
    {
     "data": {
      "text/plain": [
       "retcode: Success\n",
       "Interpolation: 1st order linear\n",
       "t: 100002-element Vector{Float64}:\n",
       "    0.0\n",
       "    0.01\n",
       "    0.02\n",
       "    0.03\n",
       "    0.04\n",
       "    0.05\n",
       "    0.060000000000000005\n",
       "    0.07\n",
       "    0.08\n",
       "    0.09\n",
       "    0.09999999999999999\n",
       "    0.10999999999999999\n",
       "    0.11999999999999998\n",
       "    ⋮\n",
       "  999.8999999992357\n",
       "  999.9099999992357\n",
       "  999.9199999992356\n",
       "  999.9299999992356\n",
       "  999.9399999992356\n",
       "  999.9499999992356\n",
       "  999.9599999992356\n",
       "  999.9699999992356\n",
       "  999.9799999992356\n",
       "  999.9899999992356\n",
       "  999.9999999992356\n",
       " 1000.0\n",
       "u: 100002-element Vector{Vector{Float64}}:\n",
       " [3.0, 0.0]\n",
       " [3.0167759151444047, -0.0024489795918367346]\n",
       " [3.018203861620667, -0.004897659639184936]\n",
       " [3.0354110837117005, -0.007333512899712587]\n",
       " [3.0204240297484546, -0.009769493710662557]\n",
       " [3.017795867978612, -0.012179320301498327]\n",
       " [3.006654937044492, -0.014573231016492714]\n",
       " [2.9993690207251547, -0.01694436760418989]\n",
       " [3.0049512680318538, -0.019296007153166074]\n",
       " [3.027183608830279, -0.02163876569843929]\n",
       " [3.0622488526249856, -0.0239862859016566]\n",
       " [3.0890775268101485, -0.026349016392524672]\n",
       " [3.0817611140025845, -0.02872014652482057]\n",
       " ⋮\n",
       " [41.66798478471117, -6.957438693103474]\n",
       " [41.606151971418655, -6.951696582028362]\n",
       " [41.550805977210715, -6.9459368072505825]\n",
       " [41.49326397289276, -6.940164765068098]\n",
       " [41.454102140521535, -6.93437873291905]\n",
       " [41.40029929869178, -6.928593794968101]\n",
       " [41.36222748703748, -6.922797993118236]\n",
       " [41.28102967449359, -6.917004231106162]\n",
       " [41.212576991547856, -6.911177292376979]\n",
       " [41.11990986094267, -6.905327770699354]\n",
       " [41.07012669616399, -6.899436028222658]\n",
       " [41.07013901464901, -6.899436027771742]"
      ]
     },
     "execution_count": 8,
     "metadata": {},
     "output_type": "execute_result"
    }
   ],
   "source": [
    "prob = SDDEProblem(MagneticField, noise!, B0, h, tspan, par)\n",
    "sol = solve(prob, EM(), dt = 0.01)"
   ]
  },
  {
   "cell_type": "code",
   "execution_count": 36,
   "metadata": {},
   "outputs": [
    {
     "data": {
      "text/plain": [
       "load_solution (generic function with 2 methods)"
      ]
     },
     "execution_count": 36,
     "metadata": {},
     "output_type": "execute_result"
    }
   ],
   "source": [
    "function save_solution(sol::Union{RODESolution, Vector{RODESolution}})\n",
    "  filename = \"Simulated_sol.csv\"\n",
    "  CSV.write(filename, Dict(\"Time\" => sol.t, \"Solution\" => Matrix(sol[1:end, :])))\n",
    "  println(\"Solution saved to file: $filename\")\n",
    "end\n",
    "\n",
    "function load_solution()\n",
    "  filename = \"Simulated_sol.csv\"\n",
    "  df = CSV.read(filename, DataFrame)\n",
    "\n",
    "\n",
    "    # Extract the row corresponding to \"Time\"\n",
    "    t_row = df[1, :]\n",
    "\n",
    "    # Extract the row corresponding to \"Solution\"\n",
    "    sol_row = df[2, :]\n",
    "\n",
    "    # Convert the rows to arrays\n",
    "    t = convert(Vector, t_row)\n",
    "    sol = convert(Vector, sol_row)\n",
    "\n",
    "    return t, sol\n",
    "end"
   ]
  },
  {
   "cell_type": "code",
   "execution_count": 38,
   "metadata": {},
   "outputs": [
    {
     "data": {
      "text/plain": [
       "save_solution (generic function with 4 methods)"
      ]
     },
     "execution_count": 38,
     "metadata": {},
     "output_type": "execute_result"
    }
   ],
   "source": [
    "function save_solution(sol::Union{RODESolution, Vector{RODESolution}})\n",
    "    filename = \"Simulated_sol.csv\"\n",
    "    # Transpose the solution array\n",
    "    solution_transposed = permutedims(Matrix(sol[1:end, :]), [2, 1])\n",
    "    # Write the transposed data to the CSV file\n",
    "    CSV.write(filename, DataFrame(Time = sol.t, Solution = solution_transposed))\n",
    "    println(\"Solution saved to file: $filename\")\n",
    "end"
   ]
  },
  {
   "cell_type": "code",
   "execution_count": 39,
   "metadata": {},
   "outputs": [
    {
     "ename": "LoadError",
     "evalue": "TaskFailedException\n\n\u001b[91m    nested task error: \u001b[39mArgumentError: adding AbstractArray other than AbstractVector as a column of a data frame is not allowed\n    Stacktrace:\n     [1] \u001b[0m\u001b[1m_preprocess_column\u001b[22m\u001b[0m\u001b[1m(\u001b[22m\u001b[90mcol\u001b[39m::\u001b[0mMatrix\u001b[90m{Float64}\u001b[39m, \u001b[90mlen\u001b[39m::\u001b[0mInt64, \u001b[90mcopycols\u001b[39m::\u001b[0mBool\u001b[0m\u001b[1m)\u001b[22m\n    \u001b[90m   @\u001b[39m \u001b[33mDataFrames\u001b[39m \u001b[90m~/.julia/packages/DataFrames/58MUJ/src/dataframe/\u001b[39m\u001b[90m\u001b[4mdataframe.jl:248\u001b[24m\u001b[39m\n     [2] \u001b[0m\u001b[1m(::DataFrames.var\"#198#200\"{Bool, Vector{Any}, Int64})\u001b[22m\u001b[0m\u001b[1m(\u001b[22m\u001b[0m\u001b[1m)\u001b[22m\n    \u001b[90m   @\u001b[39m \u001b[33mDataFrames\u001b[39m \u001b[90m~/.julia/packages/DataFrames/58MUJ/src/dataframe/\u001b[39m\u001b[90m\u001b[4mdataframe.jl:223\u001b[24m\u001b[39m",
     "output_type": "error",
     "traceback": [
      "TaskFailedException\n\n\u001b[91m    nested task error: \u001b[39mArgumentError: adding AbstractArray other than AbstractVector as a column of a data frame is not allowed\n    Stacktrace:\n     [1] \u001b[0m\u001b[1m_preprocess_column\u001b[22m\u001b[0m\u001b[1m(\u001b[22m\u001b[90mcol\u001b[39m::\u001b[0mMatrix\u001b[90m{Float64}\u001b[39m, \u001b[90mlen\u001b[39m::\u001b[0mInt64, \u001b[90mcopycols\u001b[39m::\u001b[0mBool\u001b[0m\u001b[1m)\u001b[22m\n    \u001b[90m   @\u001b[39m \u001b[33mDataFrames\u001b[39m \u001b[90m~/.julia/packages/DataFrames/58MUJ/src/dataframe/\u001b[39m\u001b[90m\u001b[4mdataframe.jl:248\u001b[24m\u001b[39m\n     [2] \u001b[0m\u001b[1m(::DataFrames.var\"#198#200\"{Bool, Vector{Any}, Int64})\u001b[22m\u001b[0m\u001b[1m(\u001b[22m\u001b[0m\u001b[1m)\u001b[22m\n    \u001b[90m   @\u001b[39m \u001b[33mDataFrames\u001b[39m \u001b[90m~/.julia/packages/DataFrames/58MUJ/src/dataframe/\u001b[39m\u001b[90m\u001b[4mdataframe.jl:223\u001b[24m\u001b[39m",
      "",
      "Stacktrace:",
      " [1] sync_end(c::Channel{Any})",
      "   @ Base ./task.jl:448",
      " [2] macro expansion",
      "   @ ./task.jl:480 [inlined]",
      " [3] DataFrame(columns::Vector{Any}, colindex::DataFrames.Index; copycols::Bool)",
      "   @ DataFrames ~/.julia/packages/DataFrames/58MUJ/src/dataframe/dataframe.jl:222",
      " [4] DataFrame",
      "   @ ~/.julia/packages/DataFrames/58MUJ/src/dataframe/dataframe.jl:193 [inlined]",
      " [5] DataFrame(; kwargs::@Kwargs{Time::Vector{Float64}, Solution::Matrix{Float64}})",
      "   @ DataFrames ~/.julia/packages/DataFrames/58MUJ/src/dataframe/dataframe.jl:332",
      " [6] DataFrame",
      "   @ ~/.julia/packages/DataFrames/58MUJ/src/dataframe/dataframe.jl:310 [inlined]",
      " [7] save_solution(sol::RODESolution{Float64, 2, Vector{Vector{Float64}}, Nothing, Nothing, Vector{Float64}, NoiseProcess{Float64, 2, Float64, Vector{Float64}, Nothing, Nothing, typeof(DiffEqNoiseProcess.INPLACE_WHITE_NOISE_DIST), typeof(DiffEqNoiseProcess.INPLACE_WHITE_NOISE_BRIDGE), true, ResettableStacks.ResettableStack{Tuple{Float64, Vector{Float64}, Nothing}, true}, ResettableStacks.ResettableStack{Tuple{Float64, Vector{Float64}, Nothing}, true}, RSWM{Float64}, Nothing, RandomNumbers.Xorshifts.Xoroshiro128Plus}, SDDEProblem{Vector{Float64}, Tuple{Float64, Float64}, Tuple{}, Tuple{}, true, Vector{Float64}, Nothing, SDDEFunction{true, SciMLBase.FullSpecialize, typeof(MagneticField), typeof(noise!), LinearAlgebra.UniformScaling{Bool}, Nothing, Nothing, Nothing, Nothing, Nothing, Nothing, Nothing, Nothing, Nothing, Nothing, Nothing, Nothing, Nothing, Nothing, typeof(SciMLBase.DEFAULT_OBSERVED), Nothing, Nothing}, typeof(noise!), typeof(h), @Kwargs{}, Nothing}, EM{true}, StochasticDiffEq.LinearInterpolationData{Vector{Vector{Float64}}, Vector{Float64}}, SciMLBase.DEStats, Nothing})",
      "   @ Main ./In[38]:6",
      " [8] top-level scope",
      "   @ In[39]:1"
     ]
    }
   ],
   "source": [
    "save_solution(sol)"
   ]
  },
  {
   "cell_type": "code",
   "execution_count": 37,
   "metadata": {},
   "outputs": [
    {
     "ename": "LoadError",
     "evalue": "MethodError: \u001b[0mCannot `convert` an object of type \n\u001b[0m  \u001b[92mDataFrameRow{DataFrame, DataFrames.Index}\u001b[39m\u001b[0m to an object of type \n\u001b[0m  \u001b[91mVector\u001b[39m\n\n\u001b[0mClosest candidates are:\n\u001b[0m  convert(::Type{Vector}, \u001b[91m::Sundials.NVector\u001b[39m)\n\u001b[0m\u001b[90m   @\u001b[39m \u001b[33mSundials\u001b[39m \u001b[90m~/.julia/packages/Sundials/jrHAF/src/\u001b[39m\u001b[90m\u001b[4mnvector_wrapper.jl:64\u001b[24m\u001b[39m\n\u001b[0m  convert(::Type{Vector}, \u001b[91m::StatsBase.UnitWeights{T}\u001b[39m) where T\n\u001b[0m\u001b[90m   @\u001b[39m \u001b[32mStatsBase\u001b[39m \u001b[90m~/.julia/packages/StatsBase/ebrT3/src/\u001b[39m\u001b[90m\u001b[4mweights.jl:317\u001b[24m\u001b[39m\n\u001b[0m  convert(::Type{Vector}, \u001b[91m::StatsBase.AbstractWeights\u001b[39m)\n\u001b[0m\u001b[90m   @\u001b[39m \u001b[32mStatsBase\u001b[39m \u001b[90m~/.julia/packages/StatsBase/ebrT3/src/\u001b[39m\u001b[90m\u001b[4mweights.jl:35\u001b[24m\u001b[39m\n\u001b[0m  ...\n",
     "output_type": "error",
     "traceback": [
      "MethodError: \u001b[0mCannot `convert` an object of type \n\u001b[0m  \u001b[92mDataFrameRow{DataFrame, DataFrames.Index}\u001b[39m\u001b[0m to an object of type \n\u001b[0m  \u001b[91mVector\u001b[39m\n\n\u001b[0mClosest candidates are:\n\u001b[0m  convert(::Type{Vector}, \u001b[91m::Sundials.NVector\u001b[39m)\n\u001b[0m\u001b[90m   @\u001b[39m \u001b[33mSundials\u001b[39m \u001b[90m~/.julia/packages/Sundials/jrHAF/src/\u001b[39m\u001b[90m\u001b[4mnvector_wrapper.jl:64\u001b[24m\u001b[39m\n\u001b[0m  convert(::Type{Vector}, \u001b[91m::StatsBase.UnitWeights{T}\u001b[39m) where T\n\u001b[0m\u001b[90m   @\u001b[39m \u001b[32mStatsBase\u001b[39m \u001b[90m~/.julia/packages/StatsBase/ebrT3/src/\u001b[39m\u001b[90m\u001b[4mweights.jl:317\u001b[24m\u001b[39m\n\u001b[0m  convert(::Type{Vector}, \u001b[91m::StatsBase.AbstractWeights\u001b[39m)\n\u001b[0m\u001b[90m   @\u001b[39m \u001b[32mStatsBase\u001b[39m \u001b[90m~/.julia/packages/StatsBase/ebrT3/src/\u001b[39m\u001b[90m\u001b[4mweights.jl:35\u001b[24m\u001b[39m\n\u001b[0m  ...\n",
      "",
      "Stacktrace:",
      " [1] load_solution()",
      "   @ Main ./In[36]:19",
      " [2] top-level scope",
      "   @ In[37]:1"
     ]
    }
   ],
   "source": [
    "t, sol = load_solution()"
   ]
  },
  {
   "cell_type": "code",
   "execution_count": 27,
   "metadata": {},
   "outputs": [
    {
     "data": {
      "text/plain": [
       "load_solution (generic function with 2 methods)"
      ]
     },
     "execution_count": 27,
     "metadata": {},
     "output_type": "execute_result"
    }
   ],
   "source": [
    "function load_solution(filename::String = \"Simulated_sol.csv\")\n",
    "  # Read the CSV file into a DataFrame\n",
    "  df = CSV.read(filename, DataFrame)\n",
    "\n",
    "  # Print column names and first few rows of the DataFrame\n",
    "  println(\"Column names: \", names(df))\n",
    "  println(\"First few rows:\")\n",
    "  println(first(df, 5))\n",
    "\n",
    "  # Extract the time vector and solution array from the DataFrame\n",
    "  t = df[!, 1]  # Assuming the time column is the first column\n",
    "  sol = convert(Matrix, df[:, 2:end])\n",
    "\n",
    "  return t, sol\n",
    "end"
   ]
  },
  {
   "cell_type": "code",
   "execution_count": 28,
   "metadata": {},
   "outputs": [
    {
     "name": "stdout",
     "output_type": "stream",
     "text": [
      "Column names: [\"first\", \"second\"]\n",
      "First few rows:\n",
      "\u001b[1m2×2 DataFrame\u001b[0m\n",
      "\u001b[1m Row \u001b[0m│\u001b[1m first    \u001b[0m\u001b[1m second                            \u001b[0m\n",
      "     │\u001b[90m String15 \u001b[0m\u001b[90m String                            \u001b[0m\n",
      "─────┼─────────────────────────────────────────────\n",
      "   1 │ Solution  [3.0 3.0167759151444047 3.018203…\n",
      "   2 │ Time      [0.0, 0.01, 0.02, 0.03, 0.04, 0.…\n"
     ]
    },
    {
     "ename": "LoadError",
     "evalue": "MethodError: \u001b[0mCannot `convert` an object of type \n\u001b[0m  \u001b[92mDataFrame\u001b[39m\u001b[0m to an object of type \n\u001b[0m  \u001b[91mMatrix\u001b[39m\n\n\u001b[0mClosest candidates are:\n\u001b[0m  convert(::Type{Matrix}, \u001b[91m::BandedMatrices.BandedMatrix\u001b[39m)\n\u001b[0m\u001b[90m   @\u001b[39m \u001b[35mBandedMatrices\u001b[39m \u001b[90m~/.julia/packages/BandedMatrices/dec3g/src/banded/\u001b[39m\u001b[90m\u001b[4mBandedMatrix.jl:754\u001b[24m\u001b[39m\n\u001b[0m  convert(::Type{Matrix}, \u001b[91m::PooledArrays.PooledMatrix{T, R}\u001b[39m) where {T, R}\n\u001b[0m\u001b[90m   @\u001b[39m \u001b[36mPooledArrays\u001b[39m \u001b[90m~/.julia/packages/PooledArrays/Vy2X0/src/\u001b[39m\u001b[90m\u001b[4mPooledArrays.jl:511\u001b[24m\u001b[39m\n\u001b[0m  convert(::Type{T}, \u001b[91m::T\u001b[39m) where T\n\u001b[0m\u001b[90m   @\u001b[39m \u001b[90mBase\u001b[39m \u001b[90m\u001b[4mBase.jl:84\u001b[24m\u001b[39m\n\u001b[0m  ...\n",
     "output_type": "error",
     "traceback": [
      "MethodError: \u001b[0mCannot `convert` an object of type \n\u001b[0m  \u001b[92mDataFrame\u001b[39m\u001b[0m to an object of type \n\u001b[0m  \u001b[91mMatrix\u001b[39m\n\n\u001b[0mClosest candidates are:\n\u001b[0m  convert(::Type{Matrix}, \u001b[91m::BandedMatrices.BandedMatrix\u001b[39m)\n\u001b[0m\u001b[90m   @\u001b[39m \u001b[35mBandedMatrices\u001b[39m \u001b[90m~/.julia/packages/BandedMatrices/dec3g/src/banded/\u001b[39m\u001b[90m\u001b[4mBandedMatrix.jl:754\u001b[24m\u001b[39m\n\u001b[0m  convert(::Type{Matrix}, \u001b[91m::PooledArrays.PooledMatrix{T, R}\u001b[39m) where {T, R}\n\u001b[0m\u001b[90m   @\u001b[39m \u001b[36mPooledArrays\u001b[39m \u001b[90m~/.julia/packages/PooledArrays/Vy2X0/src/\u001b[39m\u001b[90m\u001b[4mPooledArrays.jl:511\u001b[24m\u001b[39m\n\u001b[0m  convert(::Type{T}, \u001b[91m::T\u001b[39m) where T\n\u001b[0m\u001b[90m   @\u001b[39m \u001b[90mBase\u001b[39m \u001b[90m\u001b[4mBase.jl:84\u001b[24m\u001b[39m\n\u001b[0m  ...\n",
      "",
      "Stacktrace:",
      " [1] load_solution(filename::String)",
      "   @ Main ./In[27]:12",
      " [2] load_solution()",
      "   @ Main ./In[27]:3",
      " [3] top-level scope",
      "   @ In[28]:1"
     ]
    }
   ],
   "source": [
    "t, sol = load_solution()"
   ]
  },
  {
   "cell_type": "code",
   "execution_count": null,
   "metadata": {},
   "outputs": [],
   "source": [
    "simulated_data = sol[1, :]\n",
    "fourier_transform_sim = fft(simulated_data)\n",
    "fourier_indeces = 1:6:120\n",
    "fourier_sim = abs.(fourier_transform_sim[fourier_indeces])\n",
    "\n",
    "Fs = 1 / ((sol.t[2] - sol.t[1]))\n",
    "N = length(simulated_data)\n",
    "freqs = fftfreq(N, Fs)\n",
    "\n",
    "# Plot the magnitude spectrum\n",
    "Plots.plot(freqs, abs.(fourier_transform_sim), xlabel=\"Frequency (Hz)\", ylabel=\"Magnitude\", title=\"Magnitude Spectrum\", legend=false, xlims =(0, 1))"
   ]
  },
  {
   "cell_type": "code",
   "execution_count": null,
   "metadata": {},
   "outputs": [],
   "source": [
    "# FUNCTION FOR THE DISTANCE IN THE SABC ALGORITHM\n",
    "\n",
    "function f_dist(θ::Vector{Float64}; type::Int64 = 1)\n",
    "  prob = SDDEProblem(MagneticField, noise, B0, h, tspan, θ)\n",
    "  sol = solve(prob, EM(), dt = 0.01)\n",
    "  \n",
    "  simulated_data = sol[1,:]\n",
    "\n",
    "  fourier_transform = fft(simulated_data)\n",
    "  fourier_indeces = 1:6:120\n",
    "  fourier_stats = abs.(fourier_transform[fourier_indeces])\n",
    "\n",
    "  rho = [euclidean(fourier_stats[i], fourier_sim[i]) for i in 1:length(fourier_stats)]\n",
    "  \n",
    "  return rho\n",
    "end"
   ]
  },
  {
   "cell_type": "code",
   "execution_count": null,
   "metadata": {},
   "outputs": [],
   "source": [
    "# FUNCTION FOR THE PLOTTING OF THE POSTERIORS AS A CORNER PLOT\n",
    "\n",
    "function post_plotting(post_par, true_vals)\n",
    "  pairplot(\n",
    "    posterior_params,\n",
    "    PairPlots.Truth(\n",
    "        (;\n",
    "            N_value = true_vals[1],\n",
    "            T_value = true_vals[2],\n",
    "            tau_value = true_vals[3],\n",
    "            sigma_value = true_vals[4],\n",
    "            Bmax_value = true_vals[5]\n",
    "        ),\n",
    "        \n",
    "        label=\"True Values\"\n",
    "    )\n",
    "  )\n",
    "end"
   ]
  },
  {
   "cell_type": "code",
   "execution_count": null,
   "metadata": {},
   "outputs": [],
   "source": [
    "prior = product_distribution(Uniform(1, 15), Uniform(0.1, 15.0), Uniform(0.1, 6.0), Uniform(0.01, 0.3), Uniform(1, 15))\n",
    "\n",
    "result = sabc(f_dist, prior, n_particles=1000, n_simulation=1000000, v=1.0, type = 1)\n",
    "\n",
    "display(result)"
   ]
  },
  {
   "cell_type": "code",
   "execution_count": null,
   "metadata": {},
   "outputs": [],
   "source": [
    "## Extract posterior population, trajectories for epsilon, rho and u\n",
    "pop_singeps = hcat(result.population...)\n",
    "eps_hist = vec(hcat(result.state.ϵ_history...))\n",
    "u_hist = vec(hcat(result.state.u_history...))\n",
    "\n",
    "p1 = Plots.plot(eps_hist, title=\"Epsilon History\", xlabel=\"Iteration\", legend=false, yscale=:log10)\n",
    "p2 = Plots.plot(u_hist, title=\"U History\", xlabel=\"Iteration\", legend=false)\n",
    "\n",
    "# Combine plots\n",
    "combined_plot = Plots.plot(p1, p2, layout=(1, 2), size=(1000, 400))\n",
    "\n",
    "display(combined_plot)"
   ]
  },
  {
   "cell_type": "code",
   "execution_count": null,
   "metadata": {},
   "outputs": [],
   "source": [
    "rho_singeps = hcat(result.state.ρ_history...)\n",
    "\n",
    "rho_plots = []\n",
    "\n",
    "for i in 1:20\n",
    "    push!(rho_plots, Plots.plot(rho_singeps[i, :], title=\"Rho History Stat $i\", xlabel=\"Iteration\", legend=false, yscale=:log10))\n",
    "end\n",
    "\n",
    "combined_plot = Plots.plot(rho_plots..., layout=(5, 4), size=(1200, 1800))\n",
    "\n",
    "display(combined_plot)"
   ]
  },
  {
   "cell_type": "code",
   "execution_count": null,
   "metadata": {},
   "outputs": [],
   "source": [
    "all_rho_plot = Plots.plot(1:size(rho_singeps, 2), rho_singeps', title=\"All Rho History\", xlabel=\"Iteration\", ylabel=\"Rho\", legend=false, yscale=:log10)"
   ]
  },
  {
   "cell_type": "code",
   "execution_count": null,
   "metadata": {},
   "outputs": [],
   "source": [
    "# Extract parameter samples for each parameter\n",
    "pop_history = vec(pop_singeps)\n",
    "param_samples = reshape(pop_history, 5, 1000)\n",
    "\n",
    "N_value = param_samples[1, :]\n",
    "T_value = param_samples[2, :]\n",
    "tau_value = param_samples[3,:]\n",
    "sigma_value = param_samples[4,:]\n",
    "Bmax_value = param_samples[5, :]\n",
    "\n",
    "posterior_params = DataFrame(;N_value, T_value, tau_value, sigma_value, Bmax_value)"
   ]
  },
  {
   "cell_type": "code",
   "execution_count": null,
   "metadata": {},
   "outputs": [],
   "source": [
    "post_plotting(posterior_params, [6.2, 3.1, 3.5, 0.04, 6.0])"
   ]
  }
 ],
 "metadata": {
  "kernelspec": {
   "display_name": "Julia 1.10.3",
   "language": "julia",
   "name": "julia-1.10"
  },
  "language_info": {
   "file_extension": ".jl",
   "mimetype": "application/julia",
   "name": "julia",
   "version": "1.10.3"
  }
 },
 "nbformat": 4,
 "nbformat_minor": 2
}
