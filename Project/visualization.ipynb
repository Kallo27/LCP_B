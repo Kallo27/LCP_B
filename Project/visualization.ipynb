{
 "cells": [
  {
   "cell_type": "code",
   "execution_count": null,
   "metadata": {
    "vscode": {
     "languageId": "julia"
    }
   },
   "outputs": [],
   "source": [
    "using Plots\n",
    "using Distributions\n",
    "using Distances\n",
    "using DataFrames\n",
    "using CSV\n",
    "using FFTW\n",
    "using CairoMakie\n",
    "using PairPlots"
   ]
  },
  {
   "cell_type": "code",
   "execution_count": null,
   "metadata": {
    "vscode": {
     "languageId": "julia"
    }
   },
   "outputs": [],
   "source": [
    "# FUNCTION FOR THE PLOTTING OF THE POSTERIORS AS A CORNER PLOT\n",
    "\n",
    "# function to load the saved solution of a SDDE\n",
    "function load_solution(filename::String = \"simulated_sol.csv\")\n",
    "  df = CSV.read(filename, DataFrame)\n",
    "\n",
    "  t = Vector(df.Time)\n",
    "  u = Vector(df.u)\n",
    "  du = Vector(df.du)\n",
    "\n",
    "  return t, u, du\n",
    "end\n",
    "\n",
    "# function to load the result object of a sABC algorithm\n",
    "function load_result()\n",
    "  curr_path = pwd()\n",
    "  \n",
    "  filenames = [\"eps_hist.csv\", \"u_hist.csv\", \"rho_hist.csv\"]\n",
    "  variables = []\n",
    "  for filename in filenames\n",
    "      path = joinpath(curr_path, filename)\n",
    "      push!(variables, CSV.read(path, DataFrame))\n",
    "      println(\"Data loaded from file: $path\")\n",
    "  end\n",
    "  eps_hist, u_hist, rho_hist = variables\n",
    "\n",
    "  filename = \"population.csv\"\n",
    "  path = joinpath(curr_path, filename)\n",
    "  posterior_params = CSV.read(path, DataFrame)\n",
    "  println(\"Posterior parameters loaded from file: $path\")\n",
    "  \n",
    "  return eps_hist, u_hist, rho_hist, posterior_params\n",
    "end\n",
    "\n",
    "function post_plotting(post_par, true_vals)\n",
    "  pairplot(\n",
    "    posterior_params,\n",
    "    PairPlots.Truth(\n",
    "        (;\n",
    "            N_value = true_vals[1],\n",
    "            T_value = true_vals[2],\n",
    "            tau_value = true_vals[3],\n",
    "            sigma_value = true_vals[4],\n",
    "            Bmax_value = true_vals[5]\n",
    "        ),\n",
    "        \n",
    "        label=\"True Values\"\n",
    "    )\n",
    "  )\n",
    "end"
   ]
  },
  {
   "cell_type": "code",
   "execution_count": null,
   "metadata": {
    "vscode": {
     "languageId": "julia"
    }
   },
   "outputs": [],
   "source": [
    "function plot_fourier_spectrum(t::Vector{Float64}, u::Vector{Float64})\n",
    "  Fs = 1 / (t[2] - t[1])\n",
    "  N = length(u)\n",
    "  freqs = fftfreq(N, Fs)\n",
    "\n",
    "  Plots.plot(freqs, abs.(fft(u)), xlabel=\"Frequency (Hz)\", ylabel=\"Magnitude\", title=\"Magnitude Spectrum\", legend=false, xlims =(0, 1))\n",
    "end"
   ]
  },
  {
   "cell_type": "code",
   "execution_count": null,
   "metadata": {
    "vscode": {
     "languageId": "julia"
    }
   },
   "outputs": [],
   "source": [
    "plot_fourier_spectrum(t, u)"
   ]
  },
  {
   "cell_type": "code",
   "execution_count": null,
   "metadata": {
    "vscode": {
     "languageId": "julia"
    }
   },
   "outputs": [],
   "source": [
    "t, u, du = load_solution()"
   ]
  },
  {
   "cell_type": "code",
   "execution_count": null,
   "metadata": {
    "vscode": {
     "languageId": "julia"
    }
   },
   "outputs": [],
   "source": [
    "eps_hist, u_hist, rho_hist, posterior_params = load_result()"
   ]
  },
  {
   "cell_type": "code",
   "execution_count": null,
   "metadata": {
    "vscode": {
     "languageId": "julia"
    }
   },
   "outputs": [],
   "source": [
    "p1 = Plots.plot(vec(Matrix(eps_hist)), title=\"Epsilon History\", xlabel=\"Iteration\", legend=false, yscale=:log10)\n",
    "p2 = Plots.plot(vec(Matrix(u_hist)), title=\"U History\", xlabel=\"Iteration\", legend=false)\n",
    "\n",
    "# Combine plots\n",
    "combined_plot = Plots.plot(p1, p2, layout=(1, 2), size=(1000, 400))\n",
    "\n",
    "display(combined_plot)"
   ]
  },
  {
   "cell_type": "code",
   "execution_count": null,
   "metadata": {
    "vscode": {
     "languageId": "julia"
    }
   },
   "outputs": [],
   "source": [
    "rho_plots = []\n",
    "\n",
    "for i in 1:20\n",
    "  push!(rho_plots, Plots.plot(Matrix(rho_hist)[i, :], title=\"Rho History Stat $i\", xlabel=\"Iteration\", legend=false, yscale=:log10))\n",
    "end\n",
    "\n",
    "combined_plot = Plots.plot(rho_plots..., layout=(5, 4), size=(1200, 1800))\n",
    "\n",
    "display(combined_plot)"
   ]
  },
  {
   "cell_type": "code",
   "execution_count": null,
   "metadata": {
    "vscode": {
     "languageId": "julia"
    }
   },
   "outputs": [],
   "source": [
    "labels = [\"rho$i\" for i in 1:size(Matrix(rho_hist), 1)]\n",
    "\n",
    "all_rho_plot = plot(title=\"All Rho History\", xlabel=\"Iteration\", ylabel=\"Rho\", legend=true, yscale=:log10)\n",
    "for i in 1:size(rho_singeps, 1)\n",
    "  plot!(1:size(Matrix(rho_hist), 2), Matrix(rho_hist)[i, :], label=labels[i])\n",
    "end\n",
    "\n",
    "# Display the plot\n",
    "display(all_rho_plot)"
   ]
  },
  {
   "cell_type": "code",
   "execution_count": null,
   "metadata": {
    "vscode": {
     "languageId": "julia"
    }
   },
   "outputs": [],
   "source": [
    "post_plotting(posterior_params, [6.2, 3.1, 3.5, 0.04, 6.0])"
   ]
  }
 ],
 "metadata": {
  "language_info": {
   "name": "python"
  }
 },
 "nbformat": 4,
 "nbformat_minor": 2
}
