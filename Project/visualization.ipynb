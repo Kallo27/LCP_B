{
 "cells": [
  {
   "cell_type": "code",
   "execution_count": null,
   "metadata": {
    "vscode": {
     "languageId": "julia"
    }
   },
   "outputs": [],
   "source": [
    "using DifferentialEquations\n",
    "using StochasticDelayDiffEq\n",
    "using SpecialFunctions\n",
    "using Plots\n",
    "using XLSX\n",
    "using Distributions\n",
    "using SimulatedAnnealingABC\n",
    "using Distances\n",
    "using DataFrames\n",
    "using FFTW\n",
    "using CairoMakie\n",
    "using PairPlots"
   ]
  },
  {
   "cell_type": "code",
   "execution_count": null,
   "metadata": {
    "vscode": {
     "languageId": "julia"
    }
   },
   "outputs": [],
   "source": [
    "# FUNCTION FOR THE PLOTTING OF THE POSTERIORS AS A CORNER PLOT\n",
    "\n",
    "function post_plotting(post_par, true_vals)\n",
    "  pairplot(\n",
    "    posterior_params,\n",
    "    PairPlots.Truth(\n",
    "        (;\n",
    "            N_value = true_vals[1],\n",
    "            T_value = true_vals[2],\n",
    "            tau_value = true_vals[3],\n",
    "            sigma_value = true_vals[4],\n",
    "            Bmax_value = true_vals[5]\n",
    "        ),\n",
    "        \n",
    "        label=\"True Values\"\n",
    "    )\n",
    "  )\n",
    "end"
   ]
  }
 ],
 "metadata": {
  "language_info": {
   "name": "python"
  }
 },
 "nbformat": 4,
 "nbformat_minor": 2
}
